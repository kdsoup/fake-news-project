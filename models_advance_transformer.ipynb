{
 "cells": [
  {
   "cell_type": "code",
   "execution_count": null,
   "metadata": {},
   "outputs": [],
   "source": [
    "import pandas as pd\n",
    "\n",
    "# load data\n",
    "# training data\n",
    "src = 'data/training_data_embeddings.csv'\n",
    "training_embeddings = pd.read_csv(src)\n",
    "\n",
    "src = 'data/training_data_features.csv'\n",
    "training_data = pd.read_csv(src)\n",
    "\n",
    "# validation data\n",
    "src = 'data/validation_data_embeddings.csv'\n",
    "validation_embeddings = pd.read_csv(src)\n",
    "\n",
    "src = 'data/validation_data_features.csv'\n",
    "validation_data = pd.read_csv(src)"
   ]
  },
  {
   "cell_type": "code",
   "execution_count": null,
   "metadata": {},
   "outputs": [],
   "source": [
    "# NAIVE BAYES\n",
    "# with sentence transformer word embeddings matrix\n",
    "\n",
    "# REF: https://scikit-learn.org/stable/tutorial/text_analytics/working_with_text_data.html\n",
    "\n",
    "from sklearn.naive_bayes import MultinomialNB\n",
    "from sklearn.metrics import classification_report\n",
    "from sklearn.preprocessing import MinMaxScaler\n",
    "\n",
    "X_train = training_embeddings\n",
    "Y_train = training_data['reliable']\n",
    "\n",
    "X_val = validation_embeddings\n",
    "Y_val = validation_data['reliable']\n",
    "\n",
    "# scalar to account for negative values\n",
    "# Transform features by scaling each feature to a given range.\n",
    "# REF: https://scikit-learn.org/stable/modules/generated/sklearn.preprocessing.MinMaxScaler.html\n",
    "scaler = MinMaxScaler()\n",
    "# Compute the minimum and maximum to be used for scaling\n",
    "scaler.fit(X_train)\n",
    "# Scale features of X according to feature_range.\n",
    "X_train_scaled = pd.DataFrame(scaler.transform(X_train))\n",
    "X_val_scaled = pd.DataFrame(scaler.transform(X_val))\n",
    "\n",
    "# naive bayes model\n",
    "clf = MultinomialNB().fit(X_train_scaled, Y_train)\n",
    "\n",
    "# predictions\n",
    "y_pred = clf.predict(X_val_scaled)\n",
    "print('NAIVE BAYES w/ TRANSFORMER')\n",
    "\n",
    "print(classification_report(Y_val, y_pred))"
   ]
  },
  {
   "cell_type": "code",
   "execution_count": null,
   "metadata": {},
   "outputs": [],
   "source": [
    "# LOGISTIC REGRESSION\n",
    "# with sentence transformer word embeddings matrix\n",
    "\n",
    "from sklearn.linear_model import LogisticRegression\n",
    "from sklearn.metrics import classification_report\n",
    "\n",
    "X_train = training_embeddings\n",
    "Y_train = training_data['reliable']\n",
    "\n",
    "X_val = validation_embeddings\n",
    "Y_val = validation_data['reliable']\n",
    "\n",
    "# create logistic reg. model, and train it\n",
    "model = LogisticRegression()\n",
    "model.fit(X_train, Y_train)\n",
    "\n",
    "# test the model and report performance\n",
    "predictions = model.predict(X_val)\n",
    "print('LOGISTIC REGRESSION w/ TRANSFORMER')\n",
    "print(classification_report(Y_val, predictions))"
   ]
  },
  {
   "cell_type": "code",
   "execution_count": null,
   "metadata": {},
   "outputs": [],
   "source": [
    "# NEURAL NETWORK\n",
    "# https://scikit-learn.org/stable/modules/generated/sklearn.neural_network.MLPClassifier.html\n",
    "\n",
    "from sklearn.neural_network import MLPClassifier\n",
    "from sklearn.metrics import classification_report\n",
    "from sklearn.preprocessing import StandardScaler\n",
    "\n",
    "# Scale input features\n",
    "scaler = StandardScaler(with_mean=False)  # Pass with_mean=False for sparse matrices\n",
    "X_training_scaled = scaler.fit_transform(training_embeddings)\n",
    "X_validation_scaled = scaler.transform(validation_embeddings)\n",
    "\n",
    "y_train = training_data['reliable']\n",
    "y_val = validation_data['reliable']\n",
    "\n",
    "# MLP model with 1 hidden layer and 10 neurones, with the default rectified linear unit function.\n",
    "mlp_model = MLPClassifier(hidden_layer_sizes=(10), max_iter=500, batch_size=256, early_stopping=True, verbose=True)\n",
    "mlp_model.fit(X_training_scaled, y_train)\n",
    "\n",
    "predictions = mlp_model.predict(X_validation_scaled)\n",
    "\n",
    "print(\"MLP CLASSIFIER w/ TRANSFORMER\")\n",
    "print(classification_report(y_val, predictions))"
   ]
  }
 ],
 "metadata": {
  "kernelspec": {
   "display_name": "fake-news-proj",
   "language": "python",
   "name": "python3"
  },
  "language_info": {
   "codemirror_mode": {
    "name": "ipython",
    "version": 3
   },
   "file_extension": ".py",
   "mimetype": "text/x-python",
   "name": "python",
   "nbconvert_exporter": "python",
   "pygments_lexer": "ipython3",
   "version": "3.12.1"
  }
 },
 "nbformat": 4,
 "nbformat_minor": 2
}
