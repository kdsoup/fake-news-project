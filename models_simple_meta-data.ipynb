{
 "cells": [
  {
   "cell_type": "markdown",
   "metadata": {},
   "source": [
    "# Simple Logistic Regression Model w. Meta-Data Features"
   ]
  },
  {
   "cell_type": "code",
   "execution_count": null,
   "metadata": {},
   "outputs": [],
   "source": [
    "import pandas as pd\n",
    "\n",
    "# load data\n",
    "src = 'data/training_data_features.csv'\n",
    "training_data = pd.read_csv(src, index_col=0)\n",
    "\n",
    "src = 'data/validation_data_features.csv'\n",
    "validation_data = pd.read_csv(src, index_col=0)"
   ]
  },
  {
   "cell_type": "code",
   "execution_count": null,
   "metadata": {},
   "outputs": [],
   "source": [
    "# Code reference: https://www.freecodecamp.org/news/how-to-build-and-train-linear-and-logistic-regression-ml-models-in-python/\n",
    "\n",
    "from sklearn.linear_model import LogisticRegression\n",
    "from sklearn.metrics import classification_report\n",
    "\n",
    "features = [\n",
    "    'date_count', \n",
    "    'url_count', \n",
    "    'exclm_count',\n",
    "    'content_word_freq', \n",
    "    'stop_word_freq', \n",
    "    'stem_word_freq',\n",
    "    'stop_reduction_rate', \n",
    "    'stem_reduction_rate', \n",
    "    'average_sentence_length',\n",
    "    'has_author' # meta-data\n",
    "]\n",
    "\n",
    "# features\n",
    "X_training = training_data[features]\n",
    "X_validation = validation_data[features]\n",
    "\n",
    "# targets\n",
    "y_training = training_data['reliable']\n",
    "y_validation = validation_data['reliable']\n",
    "\n",
    "# create logistic reg. model, and train it\n",
    "model = LogisticRegression(max_iter=1000)\n",
    "model.fit(X_training, y_training)\n",
    "\n",
    "# test the model on validation data and report performance\n",
    "predictions = model.predict(X_validation)\n",
    "\n",
    "print('LOGISTIC REGRESSION w/ BASELINE, META-DATA')\n",
    "print(classification_report(y_validation, predictions))"
   ]
  },
  {
   "cell_type": "code",
   "execution_count": null,
   "metadata": {},
   "outputs": [],
   "source": [
    "# get weights of coefficents\n",
    "dict(zip(model.feature_names_in_, model.coef_[0]))"
   ]
  }
 ],
 "metadata": {
  "kernelspec": {
   "display_name": "fake-news-proj",
   "language": "python",
   "name": "python3"
  },
  "language_info": {
   "codemirror_mode": {
    "name": "ipython",
    "version": 3
   },
   "file_extension": ".py",
   "mimetype": "text/x-python",
   "name": "python",
   "nbconvert_exporter": "python",
   "pygments_lexer": "ipython3",
   "version": "3.12.1"
  }
 },
 "nbformat": 4,
 "nbformat_minor": 2
}
