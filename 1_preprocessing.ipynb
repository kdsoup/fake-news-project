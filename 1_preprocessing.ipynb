{
 "cells": [
  {
   "cell_type": "markdown",
   "metadata": {},
   "source": [
    "# Preprocessing of data"
   ]
  },
  {
   "cell_type": "markdown",
   "metadata": {},
   "source": [
    "### Preprocess 'news_sample.csv'"
   ]
  },
  {
   "cell_type": "code",
   "execution_count": null,
   "metadata": {},
   "outputs": [],
   "source": [
    "import pandas as pd\n",
    "import lib.process_a as process_a\n",
    "\n",
    "# load 'news_sample.csv' file from git source\n",
    "df_sample = pd.read_csv('https://raw.githubusercontent.com/several27/FakeNewsCorpus/master/news_sample.csv', index_col=0)\n",
    "\n",
    "# Apply preprocess to dataframe: cleanup -> remove stopword -> stemming\n",
    "# and get word frequencies and reduction rates\n",
    "df_sample = process_a.preprocess(df_sample)\n",
    "\n",
    "# save csv file copy of preprocessed dataframe\n",
    "df_sample.to_csv(\"data/news_sample_cleaned.csv\")"
   ]
  },
  {
   "cell_type": "markdown",
   "metadata": {},
   "source": [
    "### Preprocess '995,000_rows.csv' dataset"
   ]
  },
  {
   "cell_type": "code",
   "execution_count": null,
   "metadata": {},
   "outputs": [],
   "source": [
    "import pandas as pd\n",
    "import lib.process_d as process_d\n",
    "\n",
    "# load data\n",
    "src = 'data/995,000_rows.csv'\n",
    "raw_data = pd.read_csv(src)\n",
    "\n",
    "# Apply preprocess: cleanup -> remove stopword -> stemming\n",
    "clean_data = process_d.preprocess(raw_data)\n",
    "\n",
    "# save csv file of processed data\n",
    "dst = 'data/995,000_rows_cleaned.csv'\n",
    "clean_data.to_csv(dst)"
   ]
  },
  {
   "cell_type": "markdown",
   "metadata": {},
   "source": [
    "### Split 995k dataset into a training, validation, and test sets"
   ]
  },
  {
   "cell_type": "code",
   "execution_count": null,
   "metadata": {},
   "outputs": [],
   "source": [
    "import pandas as pd\n",
    "import lib.split as split\n",
    "\n",
    "src = 'data/995,000_rows_cleaned.csv'\n",
    "split_data = pd.read_csv(src)\n",
    "split.eighty_ten_ten(split_data)"
   ]
  }
 ],
 "metadata": {
  "kernelspec": {
   "display_name": "fake-news-proj",
   "language": "python",
   "name": "python3"
  },
  "language_info": {
   "codemirror_mode": {
    "name": "ipython",
    "version": 3
   },
   "file_extension": ".py",
   "mimetype": "text/x-python",
   "name": "python",
   "nbconvert_exporter": "python",
   "pygments_lexer": "ipython3",
   "version": "3.12.1"
  }
 },
 "nbformat": 4,
 "nbformat_minor": 2
}
