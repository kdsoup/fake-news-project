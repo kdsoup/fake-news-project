{
 "cells": [
  {
   "cell_type": "markdown",
   "metadata": {},
   "source": [
    "# Preprocessing of data"
   ]
  },
  {
   "cell_type": "markdown",
   "metadata": {},
   "source": [
    "### Preprocess 'news_sample.csv'"
   ]
  },
  {
   "cell_type": "code",
   "execution_count": null,
   "metadata": {},
   "outputs": [],
   "source": [
    "import pandas as pd\n",
    "import lib.process_a as process_a\n",
    "\n",
    "# load 'news_sample.csv' file from git source\n",
    "df_sample = pd.read_csv('https://raw.githubusercontent.com/several27/FakeNewsCorpus/master/news_sample.csv', index_col=0)\n",
    "\n",
    "# Apply preprocess to dataframe: cleanup -> remove stopword -> stemming\n",
    "# and get word frequencies and reduction rates\n",
    "df_sample = process_a.preprocess(df_sample)\n",
    "\n",
    "# save csv file copy of preprocessed dataframe\n",
    "df_sample.to_csv(\"data/news_sample_cleaned.csv\")"
   ]
  },
  {
   "cell_type": "markdown",
   "metadata": {},
   "source": [
    "### Preprocess '995,000_rows.csv' dataset"
   ]
  },
  {
   "cell_type": "code",
   "execution_count": null,
   "metadata": {},
   "outputs": [],
   "source": [
    "import pandas as pd\n",
    "import lib.process_b as process_b\n",
    "\n",
    "# load data\n",
    "src = 'data/995,000_rows.csv'\n",
    "raw_data = pd.read_csv(src)\n",
    "\n",
    "# Apply preprocess: cleanup -> remove stopword -> stemming\n",
    "clean_data = process_b.preprocess(raw_data)\n",
    "\n",
    "# save csv file of processed data\n",
    "dst = 'data/995,000_rows_cleaned.csv'\n",
    "clean_data.to_csv(dst)"
   ]
  },
  {
   "cell_type": "markdown",
   "metadata": {},
   "source": [
    "### Split 995k dataset into a training, validation, and test sets"
   ]
  },
  {
   "cell_type": "code",
   "execution_count": null,
   "metadata": {},
   "outputs": [],
   "source": [
    "import pandas as pd\n",
    "import lib.process_methods as pm\n",
    "\n",
    "src = 'data/995,000_rows_cleaned.csv'\n",
    "split_data = pd.read_csv(src)\n",
    "pm.train_valid_test(split_data)"
   ]
  },
  {
   "cell_type": "markdown",
   "metadata": {},
   "source": [
    "### Group 'fake' and 'reliable' types"
   ]
  },
  {
   "cell_type": "code",
   "execution_count": 2,
   "metadata": {},
   "outputs": [],
   "source": [
    "import pandas as pd\n",
    "import lib.process_methods as pm\n",
    "\n",
    "# load data\n",
    "src_train = 'data/training_data.csv'\n",
    "train_data = pd.read_csv(src_train)\n",
    "\n",
    "src_valid = 'data/validation_data.csv'\n",
    "valid_data = pd.read_csv(src_valid)\n",
    "\n",
    "src_test = 'data/test_data.csv'\n",
    "test_data = pd.read_csv(src_test)\n",
    "\n",
    "# rows with omitted types\n",
    "omitted_types = {'political',\n",
    "                'bias',\n",
    "                'rumor',\n",
    "                'unknown',\n",
    "                'unreliable',\n",
    "                'clickbait',\n",
    "                'junksci',\n",
    "                'hate',\n",
    "                '2018-02-10 13:43:39.521661'\n",
    "}\n",
    "\n",
    "# reassigned labels into 'fake' and 'reliable'\n",
    "fake_types = {'fake', \n",
    "              'satire',\n",
    "              'conspiracy',\n",
    "}\n",
    "\n",
    "reliable_types = {'reliable'}\n",
    "\n",
    "# group training data and save to file\n",
    "dst = 'data/training_data_grouped.csv'\n",
    "train_data_group = pm.group_data(train_data, omitted_types, fake_types)\n",
    "train_data_group.to_csv(dst)\n",
    "\n",
    "# group valid data and save to file\n",
    "dst = 'data/validation_data_grouped.csv'\n",
    "valid_data_group = pm.group_data(valid_data, omitted_types, fake_types)\n",
    "valid_data_group.to_csv(dst)\n",
    "\n",
    "# group test data and save to file\n",
    "dst = 'data/test_data_grouped.csv'\n",
    "test_data_group = pm.group_data(test_data, omitted_types, fake_types)\n",
    "test_data_group.to_csv(dst)"
   ]
  },
  {
   "cell_type": "code",
   "execution_count": 3,
   "metadata": {},
   "outputs": [
    {
     "name": "stdout",
     "output_type": "stream",
     "text": [
      "TRANING DATA:\n",
      "type\n",
      "reliable    50.298673\n",
      "fake        49.701327\n",
      "Name: proportion, dtype: float64\n",
      "VALIDATION DATA:\n",
      "type\n",
      "reliable    50.494572\n",
      "fake        49.505428\n",
      "Name: proportion, dtype: float64\n",
      "TEST DATA:\n",
      "type\n",
      "reliable    50.808436\n",
      "fake        49.191564\n",
      "Name: proportion, dtype: float64\n"
     ]
    }
   ],
   "source": [
    "# destribution of types in grouped training data\n",
    "type_dist = train_data_group['type'].value_counts(normalize=True) * 100\n",
    "print(\"TRANING DATA:\")\n",
    "print(type_dist)\n",
    "\n",
    "# destribution of types in grouped validation data\n",
    "type_dist = valid_data_group['type'].value_counts(normalize=True) * 100\n",
    "print(\"VALIDATION DATA:\")\n",
    "print(type_dist)\n",
    "\n",
    "# destribution of types in grouped validation data\n",
    "type_dist = test_data_group['type'].value_counts(normalize=True) * 100\n",
    "print(\"TEST DATA:\")\n",
    "print(type_dist)"
   ]
  }
 ],
 "metadata": {
  "kernelspec": {
   "display_name": "fake-news-proj",
   "language": "python",
   "name": "python3"
  },
  "language_info": {
   "codemirror_mode": {
    "name": "ipython",
    "version": 3
   },
   "file_extension": ".py",
   "mimetype": "text/x-python",
   "name": "python",
   "nbconvert_exporter": "python",
   "pygments_lexer": "ipython3",
   "version": "3.12.1"
  }
 },
 "nbformat": 4,
 "nbformat_minor": 2
}
