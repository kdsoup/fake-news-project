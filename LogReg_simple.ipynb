{
 "cells": [
  {
   "cell_type": "markdown",
   "metadata": {},
   "source": [
    "# Simple Logistic Regression Model"
   ]
  },
  {
   "cell_type": "code",
   "execution_count": null,
   "metadata": {},
   "outputs": [],
   "source": [
    "import pandas as pd\n",
    "\n",
    "# load grouped training data\n",
    "src = 'data/training_data_features.csv'\n",
    "training_data_raw = pd.read_csv(src)\n",
    "\n",
    "# load grouped validation data\n",
    "src = 'data/validation_data_features.csv'\n",
    "validation_data_raw = pd.read_csv(src)"
   ]
  },
  {
   "cell_type": "code",
   "execution_count": null,
   "metadata": {},
   "outputs": [],
   "source": [
    "# columns info\n",
    "training_data_cols = list(training_data_raw.columns)\n",
    "print('Training data cols:', training_data_cols)\n",
    "\n",
    "validation_data_cols = list(validation_data_raw.columns)\n",
    "print('Validation data cols:', validation_data_cols)"
   ]
  },
  {
   "cell_type": "markdown",
   "metadata": {},
   "source": [
    "### Train the model"
   ]
  },
  {
   "cell_type": "code",
   "execution_count": null,
   "metadata": {},
   "outputs": [],
   "source": [
    "# Code reference: https://www.freecodecamp.org/news/how-to-build-and-train-linear-and-logistic-regression-ml-models-in-python/\n",
    "\n",
    "from sklearn.linear_model import LogisticRegression\n",
    "from sklearn.metrics import classification_report\n",
    "\n",
    "training_data = training_data_raw.copy(deep=True)\n",
    "validation_data = validation_data_raw.copy(deep=True)\n",
    "\n",
    "# remove columns\n",
    "training_data.drop([\n",
    "                'Unnamed: 0', \n",
    "                'type', \n",
    "                'content',\n",
    "                'title', \n",
    "                'authors', \n",
    "                'content_clean', \n",
    "                'content_stopword',\n",
    "                'content_stem',\n",
    "                # 'stop_word_freq',\n",
    "                # 'stem_word_freq',\n",
    "                # 'stem_reduction_rate'\n",
    "                ], axis = 1, inplace = True)\n",
    "\n",
    "# remove columns\n",
    "validation_data.drop([\n",
    "                'Unnamed: 0', \n",
    "                'type', \n",
    "                'content',\n",
    "                'title', \n",
    "                'authors', \n",
    "                'content_clean', \n",
    "                'content_stopword',\n",
    "                'content_stem',\n",
    "                # 'stop_word_freq',\n",
    "                # 'stem_word_freq',\n",
    "                # 'stem_reduction_rate'\n",
    "                ], axis = 1, inplace = True)\n",
    "\n",
    "\n",
    "# Split data into training and prediction data\n",
    "y_training_data = training_data['reliable']\n",
    "y_validation_data = validation_data['reliable']\n",
    "\n",
    "# x data are all the features to train on. \n",
    "# The 'reliable' bool column is dropped from the training input\n",
    "x_training_data = training_data.drop(['reliable'], axis=1)\n",
    "x_validation_data = validation_data.drop(['reliable'], axis=1)\n",
    "\n",
    "# create logistic reg. model, and train it\n",
    "model = LogisticRegression()\n",
    "model.fit(x_training_data, y_training_data)\n",
    "\n",
    "# test the model on validation data and report performance\n",
    "predictions = model.predict(x_validation_data)\n",
    "print(classification_report(y_validation_data, predictions))"
   ]
  },
  {
   "cell_type": "code",
   "execution_count": null,
   "metadata": {},
   "outputs": [],
   "source": [
    "# get weights of coefficents\n",
    "dict(zip(model.feature_names_in_, model.coef_[0]))"
   ]
  }
 ],
 "metadata": {
  "kernelspec": {
   "display_name": "fake-news-proj",
   "language": "python",
   "name": "python3"
  },
  "language_info": {
   "codemirror_mode": {
    "name": "ipython",
    "version": 3
   },
   "file_extension": ".py",
   "mimetype": "text/x-python",
   "name": "python",
   "nbconvert_exporter": "python",
   "pygments_lexer": "ipython3",
   "version": "3.12.1"
  }
 },
 "nbformat": 4,
 "nbformat_minor": 2
}
