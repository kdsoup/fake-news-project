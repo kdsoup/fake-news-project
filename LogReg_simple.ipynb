{
 "cells": [
  {
   "cell_type": "markdown",
   "metadata": {},
   "source": [
    "# Simple Logistic Regression Model"
   ]
  },
  {
   "cell_type": "code",
   "execution_count": null,
   "metadata": {},
   "outputs": [],
   "source": [
    "import pandas as pd\n",
    "\n",
    "# load data\n",
    "src = 'data/training_data_features.csv'\n",
    "training_data = pd.read_csv(src, index_col=0)\n",
    "\n",
    "src = 'data/validation_data_features.csv'\n",
    "validation_data = pd.read_csv(src, index_col=0)"
   ]
  },
  {
   "cell_type": "markdown",
   "metadata": {},
   "source": [
    "### LogReg with Baseline features\n",
    "\n",
    "Using FakeNews validation and training set"
   ]
  },
  {
   "cell_type": "code",
   "execution_count": null,
   "metadata": {},
   "outputs": [],
   "source": [
    "# Code reference: https://www.freecodecamp.org/news/how-to-build-and-train-linear-and-logistic-regression-ml-models-in-python/\n",
    "\n",
    "from sklearn.linear_model import LogisticRegression\n",
    "from sklearn.metrics import classification_report, mean_squared_error\n",
    "\n",
    "features = [\n",
    "    'date_count', \n",
    "    'url_count', \n",
    "    'exclm_count',\n",
    "    'content_word_freq', \n",
    "    'stop_word_freq', \n",
    "    'stem_word_freq',\n",
    "    'stop_reduction_rate', \n",
    "    'stem_reduction_rate', \n",
    "    'average_sentence_length'\n",
    "]\n",
    "\n",
    "# features\n",
    "X_training = training_data[features]\n",
    "X_validation = validation_data[features]\n",
    "\n",
    "# targets\n",
    "y_training = training_data['reliable']\n",
    "y_validation = validation_data['reliable']\n",
    "\n",
    "# create logistic reg. model, and train it\n",
    "model = LogisticRegression(max_iter=1000)\n",
    "model.fit(X_training, y_training)\n",
    "\n",
    "# test the model on validation data and report performance\n",
    "predictions = model.predict(X_validation)\n",
    "\n",
    "print('LOGISTIC REGRESSION w/ BASELINE (VALIDATION)')\n",
    "print(classification_report(y_validation, predictions))\n",
    "\n",
    "print('MSE:', mean_squared_error(y_validation, predictions))"
   ]
  },
  {
   "cell_type": "code",
   "execution_count": null,
   "metadata": {},
   "outputs": [],
   "source": [
    "# get weights of coefficents\n",
    "dict(zip(model.feature_names_in_, model.coef_[0]))"
   ]
  },
  {
   "cell_type": "markdown",
   "metadata": {},
   "source": [
    "### FakeNews Test Results\n",
    "\n",
    "FakeNews test split data"
   ]
  },
  {
   "cell_type": "code",
   "execution_count": null,
   "metadata": {},
   "outputs": [],
   "source": [
    "# load test data\n",
    "src = 'data/test_data_features.csv'\n",
    "test_data = pd.read_csv(src, index_col=0)\n",
    "\n",
    "# get features\n",
    "X_test = test_data[features]\n",
    "y_test = test_data['reliable']\n",
    "\n",
    "# test the model and report performance\n",
    "test_predictions = model.predict(X_test)\n",
    "\n",
    "print('LOGISTIC REGRESSION w/ BASELINE [TEST]')\n",
    "print(classification_report(y_test, test_predictions))"
   ]
  },
  {
   "cell_type": "markdown",
   "metadata": {},
   "source": [
    "### LIAR Test Results\n",
    "\n",
    "LIAR test data"
   ]
  },
  {
   "cell_type": "code",
   "execution_count": null,
   "metadata": {},
   "outputs": [],
   "source": [
    "# load test data\n",
    "src = 'data/liar_dataset/test_features.csv'\n",
    "liar_data = pd.read_csv(src, index_col=0)\n",
    "\n",
    "# get features\n",
    "X_liar = liar_data[features]\n",
    "y_liar = liar_data['reliable']\n",
    "\n",
    "# test the model and report performance\n",
    "liar_predictions = model.predict(X_liar)\n",
    "\n",
    "print('LOGISTIC REGRESSION w/ BASELINE [LIAR TEST]')\n",
    "print(classification_report(y_liar, liar_predictions))"
   ]
  }
 ],
 "metadata": {
  "kernelspec": {
   "display_name": "fake-news-proj",
   "language": "python",
   "name": "python3"
  },
  "language_info": {
   "codemirror_mode": {
    "name": "ipython",
    "version": 3
   },
   "file_extension": ".py",
   "mimetype": "text/x-python",
   "name": "python",
   "nbconvert_exporter": "python",
   "pygments_lexer": "ipython3",
   "version": "3.12.1"
  }
 },
 "nbformat": 4,
 "nbformat_minor": 2
}
