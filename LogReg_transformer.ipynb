{
 "cells": [
  {
   "cell_type": "code",
   "execution_count": null,
   "metadata": {},
   "outputs": [],
   "source": [
    "import pandas as pd\n",
    "\n",
    "# load data\n",
    "\n",
    "# training data\n",
    "src = 'data/training_data_grouped_embeddings.csv'\n",
    "train_embeddings = pd.read_csv(src)\n",
    "\n",
    "src = 'data/training_data_features.csv'\n",
    "train_data = pd.read_csv(src)\n",
    "\n",
    "# validation data\n",
    "src = 'data/validation_data_grouped_embeddings.csv'\n",
    "val_embeddings = pd.read_csv(src)\n",
    "\n",
    "src = 'data/validation_data_features.csv'\n",
    "val_data = pd.read_csv(src)"
   ]
  },
  {
   "cell_type": "code",
   "execution_count": null,
   "metadata": {},
   "outputs": [],
   "source": [
    "# LOGISTIC REGRESSION MODEL\n",
    "\n",
    "from sklearn.linear_model import LogisticRegression\n",
    "from sklearn.metrics import classification_report\n",
    "\n",
    "X_train = train_embeddings\n",
    "Y_train = train_data['reliable']\n",
    "\n",
    "X_val = val_embeddings\n",
    "Y_val = val_data['reliable']\n",
    "\n",
    "# create logistic reg. model, and train it\n",
    "model = LogisticRegression()\n",
    "model.fit(X_train, Y_train)\n",
    "\n",
    "# test the model and report performance\n",
    "predictions = model.predict(X_val)\n",
    "print('LOGISTIC REGRESSION w/ TRANSFORMER')\n",
    "print(classification_report(Y_val, predictions))"
   ]
  }
 ],
 "metadata": {
  "kernelspec": {
   "display_name": "fake-news-proj",
   "language": "python",
   "name": "python3"
  },
  "language_info": {
   "codemirror_mode": {
    "name": "ipython",
    "version": 3
   },
   "file_extension": ".py",
   "mimetype": "text/x-python",
   "name": "python",
   "nbconvert_exporter": "python",
   "pygments_lexer": "ipython3",
   "version": "3.12.1"
  }
 },
 "nbformat": 4,
 "nbformat_minor": 2
}
