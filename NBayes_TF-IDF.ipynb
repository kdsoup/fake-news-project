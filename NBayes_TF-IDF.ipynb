{
 "cells": [
  {
   "cell_type": "code",
   "execution_count": null,
   "metadata": {},
   "outputs": [],
   "source": [
    "import pandas as pd\n",
    "\n",
    "# load data\n",
    "src = 'data/training_data_features.csv'\n",
    "training_data_raw = pd.read_csv(src, index_col=0)\n",
    "\n",
    "src = 'data/validation_data_features.csv'\n",
    "validation_data_raw = pd.read_csv(src, index_col=0)"
   ]
  },
  {
   "cell_type": "code",
   "execution_count": null,
   "metadata": {},
   "outputs": [],
   "source": [
    "from sklearn.feature_extraction.text import CountVectorizer, TfidfTransformer, HashingVectorizer\n",
    "\n",
    "# convert to numpy array\n",
    "col = 'content_stopword'\n",
    "X_train = training_data_raw[col]\n",
    "X_val = validation_data_raw[col]\n",
    "\n",
    "# hashing\n",
    "# https://scikit-learn.org/stable/modules/generated/sklearn.feature_extraction.text.HashingVectorizer.html\n",
    "# hv = HashingVectorizer(n_features=2**26)\n",
    "# X_train_hv = hv.fit_transform(X_train)\n",
    "\n",
    "# bag of words / On-hot encoding\n",
    "# https://scikit-learn.org/stable/modules/generated/sklearn.feature_extraction.text.CountVectorizer.html#sklearn.feature_extraction.text.CountVectorizer\n",
    "# Ignore words that has a frequency higher then 0.9\n",
    "# The 100 most frequent words are used as features\n",
    "vectorizer = CountVectorizer(max_df=0.9, max_features=100)\n",
    "X_train_cnts = vectorizer.fit_transform(X_train)\n",
    "X_val_cnts = vectorizer.fit_transform(X_val)\n",
    "\n",
    "# tf-idf\n",
    "# https://scikit-learn.org/stable/modules/generated/sklearn.feature_extraction.text.TfidfTransformer.html#sklearn.feature_extraction.text.TfidfTransformer\n",
    "tfidf_transformer = TfidfTransformer()\n",
    "X_train_tfidf = tfidf_transformer.fit_transform(X_train_cnts)\n",
    "X_val_tfidf = tfidf_transformer.fit_transform(X_val_cnts)"
   ]
  },
  {
   "cell_type": "code",
   "execution_count": null,
   "metadata": {},
   "outputs": [],
   "source": [
    "# NAIVE BAYES MODEL\n",
    "# REF: https://scikit-learn.org/stable/tutorial/text_analytics/working_with_text_data.html\n",
    "\n",
    "import numpy as np\n",
    "from sklearn.naive_bayes import MultinomialNB\n",
    "from sklearn.metrics import classification_report\n",
    "\n",
    "x_train = X_train_tfidf.toarray()\n",
    "y_train = training_data_raw['reliable']\n",
    "\n",
    "x_val = X_val_tfidf.toarray()\n",
    "y_val = validation_data_raw['reliable']\n",
    "\n",
    "# naive bayes model\n",
    "clf = MultinomialNB().fit(x_train, y_train)\n",
    "\n",
    "# predictions\n",
    "y_pred = clf.predict(x_val)\n",
    "print('NAIVE BAYES w/ TF-IDF')\n",
    "print(classification_report(y_val, y_pred))\n"
   ]
  }
 ],
 "metadata": {
  "kernelspec": {
   "display_name": "fake-news-proj",
   "language": "python",
   "name": "python3"
  },
  "language_info": {
   "codemirror_mode": {
    "name": "ipython",
    "version": 3
   },
   "file_extension": ".py",
   "mimetype": "text/x-python",
   "name": "python",
   "nbconvert_exporter": "python",
   "pygments_lexer": "ipython3",
   "version": "3.12.1"
  }
 },
 "nbformat": 4,
 "nbformat_minor": 2
}
