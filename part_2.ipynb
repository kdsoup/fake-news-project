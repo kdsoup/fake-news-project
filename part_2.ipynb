{
 "cells": [
  {
   "cell_type": "markdown",
   "metadata": {},
   "source": [
    "# Part 2: Simple model"
   ]
  },
  {
   "cell_type": "markdown",
   "metadata": {},
   "source": [
    "## Task 0: Grouping labels"
   ]
  },
  {
   "cell_type": "code",
   "execution_count": null,
   "metadata": {},
   "outputs": [],
   "source": [
    "import pandas as pd\n",
    "\n",
    "# src = 'data/995,000_rows.csv'\n",
    "src = 'data/995,000_rows_cleaned.csv'\n",
    "raw_data = pd.read_csv(src)"
   ]
  },
  {
   "cell_type": "code",
   "execution_count": null,
   "metadata": {},
   "outputs": [],
   "source": [
    "# percentage destribution of types\n",
    "type_dist = raw_data['type'].value_counts(normalize=True) * 100\n",
    "print(type_dist)"
   ]
  },
  {
   "cell_type": "code",
   "execution_count": null,
   "metadata": {},
   "outputs": [],
   "source": [
    "# dataframe for grouped types\n",
    "grouped_data = raw_data.copy(deep=True)\n",
    "\n",
    "# remove omitted types from dataset\n",
    "omitted_types = ['political',\n",
    "                 'bias',\n",
    "                 'rumor',\n",
    "                 'unknown',\n",
    "                 'unreliable',\n",
    "                 'clickbait',\n",
    "                 'junksci',\n",
    "                 'hate',\n",
    "                 '2018-02-10 13:43:39.521661'\n",
    "                 ]\n",
    "\n",
    "for i in range(len(omitted_types)):\n",
    "    grouped_data = grouped_data.drop(grouped_data[grouped_data['type'] == omitted_types[i]].index)\n",
    "\n",
    "# reassigned labels into 'fake' and 'reliable'\n",
    "fake_types = {'fake', \n",
    "              'satire',\n",
    "              'conspiracy',\n",
    "}\n",
    "\n",
    "reliable_types = {'reliable'}\n",
    "\n",
    "def change_to_fake(type: str) -> str:\n",
    "    if type in fake_types:\n",
    "        return 'fake'\n",
    "    else:\n",
    "        return type\n",
    "    \n",
    "grouped_data['type'] = grouped_data['type'].apply(change_to_fake)\n",
    "\n",
    "# destribution of fake vs. reliable after re-labelling\n",
    "type_dist = grouped_data['type'].value_counts(normalize=True) * 100\n",
    "print(type_dist)"
   ]
  },
  {
   "cell_type": "markdown",
   "metadata": {},
   "source": [
    "### Logistic Regression model"
   ]
  },
  {
   "cell_type": "code",
   "execution_count": null,
   "metadata": {},
   "outputs": [],
   "source": [
    "# Code reference: https://www.freecodecamp.org/news/how-to-build-and-train-linear-and-logistic-regression-ml-models-in-python/\n",
    "\n",
    "import pandas as pd\n",
    "import numpy as np\n",
    "import matplotlib.pyplot as plt\n",
    "%matplotlib inline\n",
    "import seaborn as sns\n",
    "from sklearn.model_selection import train_test_split\n",
    "from sklearn.linear_model import LogisticRegression\n",
    "from sklearn.metrics import classification_report\n",
    "\n",
    "raw_data = pd.read_csv('data/995,000_rows_cleaned_SAMPLE.csv')\n",
    "# raw_data = df\n",
    "\n",
    "# Make grouped types ('fake' or 'reliable') into 'true' or 'false' values\n",
    "type_data = pd.get_dummies(raw_data['type'], drop_first=True)\n",
    "raw_data = pd.concat([raw_data, type_data], axis=1)\n",
    "\n",
    "# remove columns\n",
    "raw_data.drop(['Unnamed: 0.2', 'Unnamed: 0.1', 'content', 'Unnamed: 0', 'id',\n",
    "       'url', 'scraped_at', 'inserted_at', 'updated_at', 'title',\n",
    "       'authors', 'keywords', 'meta_keywords', 'meta_description', 'tags',\n",
    "       'summary', 'source', 'content_clean', 'content_stopword'], axis = 1, inplace = True)\n",
    "\n",
    "# Split data into training and prediction data\n",
    "y_data = raw_data['reliable']\n",
    "x_data = raw_data.drop(['reliable', 'type', 'domain', 'content_stem'], axis=1)\n",
    "\n",
    "x_training_data, x_test_data, y_training_data, y_test_data = train_test_split(x_data, y_data, test_size = 0.1)\n",
    "\n",
    "# create logistic reg. model, and train it\n",
    "model = LogisticRegression()\n",
    "model.fit(x_training_data, y_training_data)\n",
    "\n",
    "# test the model and report performance\n",
    "predictions = model.predict(x_test_data)\n",
    "print(classification_report(y_test_data, predictions))"
   ]
  }
 ],
 "metadata": {
  "kernelspec": {
   "display_name": "base",
   "language": "python",
   "name": "python3"
  },
  "language_info": {
   "codemirror_mode": {
    "name": "ipython",
    "version": 3
   },
   "file_extension": ".py",
   "mimetype": "text/x-python",
   "name": "python",
   "nbconvert_exporter": "python",
   "pygments_lexer": "ipython3",
   "version": "3.12.1"
  }
 },
 "nbformat": 4,
 "nbformat_minor": 2
}
