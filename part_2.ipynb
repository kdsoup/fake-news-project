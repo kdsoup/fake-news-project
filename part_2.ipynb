{
 "cells": [
  {
   "cell_type": "markdown",
   "metadata": {},
   "source": [
    "# Part 2: Simple model"
   ]
  },
  {
   "cell_type": "markdown",
   "metadata": {},
   "source": [
    "## Task 0: Grouping labels"
   ]
  },
  {
   "cell_type": "code",
   "execution_count": null,
   "metadata": {},
   "outputs": [],
   "source": [
    "import pandas as pd\n",
    "\n",
    "# src = 'data/995,000_rows_cleaned.csv'\n",
    "# src = 'data/news_sample_cleaned.csv'\n",
    "\n",
    "src_train = 'data/training_data.csv'\n",
    "train_data = pd.read_csv(src_train)\n",
    "\n",
    "src_valid = 'data/validation_data.csv'\n",
    "valid_data = pd.read_csv(src_valid)"
   ]
  },
  {
   "cell_type": "code",
   "execution_count": null,
   "metadata": {},
   "outputs": [],
   "source": [
    "import pandas as pd\n",
    "\n",
    "# rows with omitted types\n",
    "omitted_types = {'political',\n",
    "                'bias',\n",
    "                'rumor',\n",
    "                'unknown',\n",
    "                'unreliable',\n",
    "                'clickbait',\n",
    "                'junksci',\n",
    "                'hate',\n",
    "                '2018-02-10 13:43:39.521661'\n",
    "}\n",
    "\n",
    "# reassigned labels into 'fake' and 'reliable'\n",
    "fake_types = {'fake', \n",
    "              'satire',\n",
    "              'conspiracy',\n",
    "}\n",
    "\n",
    "reliable_types = {'reliable'}\n",
    "\n",
    "def group_data(df: pd.DataFrame, omitted_types: set, fake_types: set) -> pd.DataFrame:\n",
    "    # make copy\n",
    "    df_out = df.copy(deep=True)\n",
    "\n",
    "    # drop omitted types\n",
    "    drop_indexes = df_out[ (df_out['type'].isin(omitted_types))].index\n",
    "    df_out.drop(drop_indexes, inplace=True)\n",
    "\n",
    "    # group fake types\n",
    "    def change_to_fake(type: str) -> str:\n",
    "        if type in fake_types:\n",
    "            return 'fake'\n",
    "        else:\n",
    "            return type\n",
    "\n",
    "    df_out['type'] = df_out['type'].apply(change_to_fake)\n",
    "\n",
    "    # return dataframe\n",
    "    return df_out"
   ]
  },
  {
   "cell_type": "code",
   "execution_count": null,
   "metadata": {},
   "outputs": [],
   "source": [
    "# group training data and save to file\n",
    "dst = 'data/training_data_grouped.csv'\n",
    "train_data_group = group_data(train_data, omitted_types, fake_types)\n",
    "train_data_group.to_csv(dst)\n",
    "\n",
    "# group valid data and save to file\n",
    "dst = 'data/validation_data_grouped.csv'\n",
    "valid_data_group = group_data(valid_data, omitted_types, fake_types)\n",
    "valid_data_group.to_csv(dst)"
   ]
  },
  {
   "cell_type": "code",
   "execution_count": null,
   "metadata": {},
   "outputs": [],
   "source": [
    "# destribution of types in grouped training data\n",
    "type_dist = train_data_group['type'].value_counts(normalize=True) * 100\n",
    "print(\"TRANING DATA:\")\n",
    "print(type_dist)\n",
    "\n",
    "# destribution of types in grouped validation data\n",
    "type_dist = valid_data_group['type'].value_counts(normalize=True) * 100\n",
    "print(\"VALIDATION DATA:\")\n",
    "print(type_dist)"
   ]
  },
  {
   "cell_type": "markdown",
   "metadata": {},
   "source": [
    "### Logistic Regression model"
   ]
  },
  {
   "cell_type": "code",
   "execution_count": null,
   "metadata": {},
   "outputs": [],
   "source": [
    "import pandas as pd\n",
    "\n",
    "# load grouped training data\n",
    "src = 'data/training_data_grouped.csv'\n",
    "train_data_grp = pd.read_csv(src)\n",
    "\n",
    "# load grouped validation data\n",
    "src = 'data/validation_data_grouped.csv'\n",
    "train_data_grp = pd.read_csv(src)"
   ]
  },
  {
   "cell_type": "code",
   "execution_count": null,
   "metadata": {},
   "outputs": [],
   "source": [
    "# Code reference: https://www.freecodecamp.org/news/how-to-build-and-train-linear-and-logistic-regression-ml-models-in-python/\n",
    "\n",
    "import pandas as pd\n",
    "import numpy as np\n",
    "import matplotlib.pyplot as plt\n",
    "%matplotlib inline\n",
    "import seaborn as sns\n",
    "from sklearn.model_selection import train_test_split\n",
    "from sklearn.linear_model import LogisticRegression\n",
    "from sklearn.metrics import classification_report\n",
    "\n",
    "# copy data\n",
    "model_data = group_data.copy(deep=True)\n",
    "\n",
    "# Make grouped types ('fake' or 'reliable') into 'true' or 'false' values\n",
    "type_data = pd.get_dummies(model_data['type'], drop_first=True)\n",
    "model_data = pd.concat([model_data, type_data], axis=1)\n",
    "\n",
    "# remove columns\n",
    "model_data.drop(['type',\n",
    "               'content',\n",
    "               'title',\n",
    "               'authors',\n",
    "               'content_clean', \n",
    "               'content_stopword',\n",
    "               'content_stem'\n",
    "               ], axis = 1, inplace = True)\n",
    "\n",
    "# Split data into training and prediction data\n",
    "y_data = model_data['reliable']\n",
    "x_data = model_data.drop(['reliable'], axis=1)\n",
    "\n",
    "x_training_data, x_test_data, y_training_data, y_test_data = train_test_split(x_data, y_data, test_size = 0.1)\n",
    "\n",
    "# create logistic reg. model, and train it\n",
    "model = LogisticRegression()\n",
    "model.fit(x_training_data, y_training_data)\n",
    "\n",
    "# test the model and report performance\n",
    "predictions = model.predict(x_test_data)\n",
    "print(classification_report(y_test_data, predictions))"
   ]
  }
 ],
 "metadata": {
  "kernelspec": {
   "display_name": "base",
   "language": "python",
   "name": "python3"
  },
  "language_info": {
   "codemirror_mode": {
    "name": "ipython",
    "version": 3
   },
   "file_extension": ".py",
   "mimetype": "text/x-python",
   "name": "python",
   "nbconvert_exporter": "python",
   "pygments_lexer": "ipython3",
   "version": "3.12.1"
  }
 },
 "nbformat": 4,
 "nbformat_minor": 2
}
