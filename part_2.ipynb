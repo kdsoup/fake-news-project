{
 "cells": [
  {
   "cell_type": "markdown",
   "metadata": {},
   "source": [
    "# Part 2: Simple model"
   ]
  },
  {
   "cell_type": "markdown",
   "metadata": {},
   "source": [
    "## Task 0: Grouping labels"
   ]
  },
  {
   "cell_type": "code",
   "execution_count": 1,
   "metadata": {},
   "outputs": [
    {
     "name": "stderr",
     "output_type": "stream",
     "text": [
      "/var/folders/r7/pckx8d3j3_7fnbs31bc_1_r80000gn/T/ipykernel_98750/2174348663.py:5: DtypeWarning: Columns (0,1) have mixed types. Specify dtype option on import or set low_memory=False.\n",
      "  df = pd.read_csv(src)\n"
     ]
    }
   ],
   "source": [
    "import pandas as pd\n",
    "\n",
    "src = 'data/995,000_rows.csv'\n",
    "# src = 'data/news_sample_cleaned.csv'\n",
    "df = pd.read_csv(src)"
   ]
  },
  {
   "cell_type": "code",
   "execution_count": 2,
   "metadata": {},
   "outputs": [
    {
     "name": "stdout",
     "output_type": "stream",
     "text": [
      "type\n",
      "reliable                      23.074406\n",
      "political                     20.535803\n",
      "bias                          14.065670\n",
      "fake                          11.072788\n",
      "conspiracy                    10.273708\n",
      "rumor                          5.959055\n",
      "unknown                        4.596005\n",
      "unreliable                     3.730097\n",
      "clickbait                      2.893961\n",
      "junksci                        1.482242\n",
      "satire                         1.389338\n",
      "hate                           0.926823\n",
      "2018-02-10 13:43:39.521661     0.000106\n",
      "Name: proportion, dtype: float64\n"
     ]
    }
   ],
   "source": [
    "type_dist = df['type'].value_counts(normalize=True) * 100\n",
    "print(type_dist)"
   ]
  },
  {
   "cell_type": "code",
   "execution_count": 3,
   "metadata": {},
   "outputs": [],
   "source": [
    "# domain_dist = df['domain'].value_counts(normalize=True) * 100\n",
    "# print(domain_dist)"
   ]
  },
  {
   "cell_type": "code",
   "execution_count": 4,
   "metadata": {},
   "outputs": [],
   "source": [
    "# remove types\n",
    "omitted_types = ['unknown',\n",
    "                 'bias',\n",
    "                 'conspiracy',\n",
    "                 'political',\n",
    "                 'satire',\n",
    "                 'rumor',\n",
    "                 '2018-02-10 13:43:39.521661'\n",
    "                 ]\n",
    "\n",
    "for i in range(len(omitted_types)):\n",
    "    df = df.drop(df[df['type'] == omitted_types[i]].index)\n",
    "\n",
    "# query a type\n",
    "# df.query(' type == \"fake\" ')\n"
   ]
  },
  {
   "cell_type": "code",
   "execution_count": 5,
   "metadata": {},
   "outputs": [],
   "source": [
    "fake_types = {'fake', \n",
    "              'conspiracy', \n",
    "              'unreliable', \n",
    "              'junksci',\n",
    "              'clickbait',\n",
    "              'hate' \n",
    "}\n",
    "\n",
    "reliable_types = {'reliable'}\n",
    "\n",
    "# assign new label to \n",
    "def change_to_fake(type: str) -> str:\n",
    "    if type in fake_types:\n",
    "        return 'fake'\n",
    "    else:\n",
    "        return type\n",
    "    \n",
    "df['type'] = df['type'].apply(change_to_fake)"
   ]
  },
  {
   "cell_type": "code",
   "execution_count": 6,
   "metadata": {},
   "outputs": [
    {
     "name": "stdout",
     "output_type": "stream",
     "text": [
      "type\n",
      "reliable    53.437324\n",
      "fake        46.562676\n",
      "Name: proportion, dtype: float64\n"
     ]
    }
   ],
   "source": [
    "# destribution of fake vs. reliable after re-labelling\n",
    "type_dist = df['type'].value_counts(normalize=True) * 100\n",
    "print(type_dist)"
   ]
  }
 ],
 "metadata": {
  "kernelspec": {
   "display_name": "base",
   "language": "python",
   "name": "python3"
  },
  "language_info": {
   "codemirror_mode": {
    "name": "ipython",
    "version": 3
   },
   "file_extension": ".py",
   "mimetype": "text/x-python",
   "name": "python",
   "nbconvert_exporter": "python",
   "pygments_lexer": "ipython3",
   "version": "3.12.1"
  }
 },
 "nbformat": 4,
 "nbformat_minor": 2
}
