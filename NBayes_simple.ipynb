{
 "cells": [
  {
   "cell_type": "markdown",
   "metadata": {},
   "source": [
    "# Simple Naive Bayes Model"
   ]
  },
  {
   "cell_type": "code",
   "execution_count": 1,
   "metadata": {},
   "outputs": [],
   "source": [
    "import pandas as pd\n",
    "\n",
    "# load data\n",
    "src = 'data/training_data_features.csv'\n",
    "training_data = pd.read_csv(src, index_col=0)\n",
    "\n",
    "src = 'data/validation_data_features.csv'\n",
    "validation_data = pd.read_csv(src, index_col=0)"
   ]
  },
  {
   "cell_type": "markdown",
   "metadata": {},
   "source": [
    "### NBayes model with Baseline features\n",
    "\n",
    "Using FakeNews validation and training set"
   ]
  },
  {
   "cell_type": "code",
   "execution_count": 4,
   "metadata": {},
   "outputs": [
    {
     "name": "stdout",
     "output_type": "stream",
     "text": [
      "NAIVE BAYES w/ BASELINE [VALIDATION]\n",
      "              precision    recall  f1-score   support\n",
      "\n",
      "       False       0.58      0.70      0.64     21571\n",
      "        True       0.63      0.51      0.56     22002\n",
      "\n",
      "    accuracy                           0.60     43573\n",
      "   macro avg       0.61      0.60      0.60     43573\n",
      "weighted avg       0.61      0.60      0.60     43573\n",
      "\n"
     ]
    }
   ],
   "source": [
    "# NAIVE BAYES\n",
    "# REF: https://scikit-learn.org/stable/tutorial/text_analytics/working_with_text_data.html\n",
    "\n",
    "from sklearn.naive_bayes import MultinomialNB\n",
    "from sklearn.metrics import classification_report, mean_squared_error\n",
    "\n",
    "features = [\n",
    "    'date_count', \n",
    "    'url_count', \n",
    "    'exclm_count',\n",
    "    'content_word_freq', \n",
    "    'stop_word_freq', \n",
    "    'stem_word_freq',\n",
    "    'stop_reduction_rate', \n",
    "    'stem_reduction_rate', \n",
    "    'average_sentence_length'\n",
    "]\n",
    "\n",
    "# features\n",
    "X_training = training_data[features]\n",
    "X_validation = validation_data[features]\n",
    "\n",
    "# targets\n",
    "y_training = training_data['reliable']\n",
    "y_validation = validation_data['reliable']\n",
    "\n",
    "# naive bayes model\n",
    "nb_model = MultinomialNB()\n",
    "nb_model.fit(X_training, y_training)\n",
    "\n",
    "# predictions\n",
    "y_pred = nb_model.predict(X_validation)\n",
    "print('NAIVE BAYES w/ BASELINE [VALIDATION]')\n",
    "print(classification_report(y_validation, y_pred))"
   ]
  },
  {
   "cell_type": "markdown",
   "metadata": {},
   "source": [
    "### FakeNews Test Results\n",
    "\n",
    "FakeNews test split data"
   ]
  },
  {
   "cell_type": "code",
   "execution_count": null,
   "metadata": {},
   "outputs": [],
   "source": [
    "# load test data\n",
    "src = 'data/test_data_features.csv'\n",
    "test_data = pd.read_csv(src, index_col=0)\n",
    "\n",
    "# get features\n",
    "X_test = test_data[features]\n",
    "y_test = test_data['reliable']\n",
    "\n",
    "# test the model and report performance\n",
    "test_predictions = nb_model.predict(X_test)\n",
    "\n",
    "print('NAIVE BAYES w/ BASELINE [TEST]')\n",
    "print(classification_report(y_test, test_predictions))"
   ]
  },
  {
   "cell_type": "markdown",
   "metadata": {},
   "source": [
    "### LIAR Test Results\n",
    "\n",
    "LIAR test data"
   ]
  },
  {
   "cell_type": "code",
   "execution_count": null,
   "metadata": {},
   "outputs": [],
   "source": [
    "# load test data\n",
    "src = 'data/liar_dataset/test_features.csv'\n",
    "liar_data = pd.read_csv(src, index_col=0)\n",
    "\n",
    "# get features\n",
    "X_liar = liar_data[features]\n",
    "y_liar = liar_data['reliable']\n",
    "\n",
    "# test the model and report performance\n",
    "liar_predictions = nb_model.predict(X_liar)\n",
    "\n",
    "print('NAIVE BAYES w/ BASELINE [LIAR TEST]')\n",
    "print(classification_report(y_liar, liar_predictions))"
   ]
  }
 ],
 "metadata": {
  "kernelspec": {
   "display_name": "fake-news-proj",
   "language": "python",
   "name": "python3"
  },
  "language_info": {
   "codemirror_mode": {
    "name": "ipython",
    "version": 3
   },
   "file_extension": ".py",
   "mimetype": "text/x-python",
   "name": "python",
   "nbconvert_exporter": "python",
   "pygments_lexer": "ipython3",
   "version": "3.12.1"
  }
 },
 "nbformat": 4,
 "nbformat_minor": 2
}
