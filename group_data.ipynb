{
 "cells": [
  {
   "cell_type": "markdown",
   "metadata": {},
   "source": [
    "### Part 2, Task 0: Grouping labels"
   ]
  },
  {
   "cell_type": "code",
   "execution_count": null,
   "metadata": {},
   "outputs": [],
   "source": [
    "import pandas as pd\n",
    "\n",
    "# Intended to be used on split 80/10/10 .csv data files.\n",
    "\n",
    "src_train = 'data/training_data.csv'\n",
    "train_data = pd.read_csv(src_train)\n",
    "\n",
    "src_valid = 'data/validation_data.csv'\n",
    "valid_data = pd.read_csv(src_valid)\n",
    "\n",
    "src_valid = 'data/test_data.csv'\n",
    "test_data = pd.read_csv(src_valid)"
   ]
  },
  {
   "cell_type": "code",
   "execution_count": null,
   "metadata": {},
   "outputs": [],
   "source": [
    "# rows with omitted types\n",
    "omitted_types = {'political',\n",
    "                'bias',\n",
    "                'rumor',\n",
    "                'unknown',\n",
    "                'unreliable',\n",
    "                'clickbait',\n",
    "                'junksci',\n",
    "                'hate',\n",
    "                '2018-02-10 13:43:39.521661'\n",
    "}\n",
    "\n",
    "# reassigned labels into 'fake' and 'reliable'\n",
    "fake_types = {'fake', \n",
    "              'satire',\n",
    "              'conspiracy',\n",
    "}\n",
    "\n",
    "reliable_types = {'reliable'}\n",
    "\n",
    "def group_data(df: pd.DataFrame, omitted_types: set, fake_types: set) -> pd.DataFrame:\n",
    "    # make copy\n",
    "    df_out = df.copy(deep=True)\n",
    "\n",
    "    # drop omitted types\n",
    "    drop_indexes = df_out[ (df_out['type'].isin(omitted_types))].index\n",
    "    df_out.drop(drop_indexes, inplace=True)\n",
    "\n",
    "    # group fake types\n",
    "    def change_to_fake(type: str) -> str:\n",
    "        if type in fake_types:\n",
    "            return 'fake'\n",
    "        else:\n",
    "            return type\n",
    "\n",
    "    df_out['type'] = df_out['type'].apply(change_to_fake)\n",
    "\n",
    "    # return dataframe\n",
    "    return df_out"
   ]
  },
  {
   "cell_type": "code",
   "execution_count": null,
   "metadata": {},
   "outputs": [],
   "source": [
    "# group training data and save to file\n",
    "dst = 'data/training_data_grouped.csv'\n",
    "train_data_group = group_data(train_data, omitted_types, fake_types)\n",
    "# train_data_group.to_csv(dst)\n",
    "\n",
    "# group valid data and save to file\n",
    "dst = 'data/validation_data_grouped.csv'\n",
    "valid_data_group = group_data(valid_data, omitted_types, fake_types)\n",
    "# valid_data_group.to_csv(dst)\n",
    "\n",
    "# group test data and save to file\n",
    "dst = 'data/test_data_grouped.csv'\n",
    "test_data_group = group_data(test_data, omitted_types, fake_types)\n",
    "# test_data_group.to_csv(dst)"
   ]
  },
  {
   "cell_type": "code",
   "execution_count": null,
   "metadata": {},
   "outputs": [],
   "source": [
    "# destribution of types in grouped training data\n",
    "type_dist = train_data_group['type'].value_counts(normalize=True) * 100\n",
    "print(\"TRANING DATA:\")\n",
    "print(type_dist)\n",
    "\n",
    "# destribution of types in grouped validation data\n",
    "type_dist = valid_data_group['type'].value_counts(normalize=True) * 100\n",
    "print(\"VALIDATION DATA:\")\n",
    "print(type_dist)\n",
    "\n",
    "# destribution of types in grouped validation data\n",
    "type_dist = test_data_group['type'].value_counts(normalize=True) * 100\n",
    "print(\"TEST DATA:\")\n",
    "print(type_dist)"
   ]
  }
 ],
 "metadata": {
  "kernelspec": {
   "display_name": "fake-news-proj",
   "language": "python",
   "name": "python3"
  },
  "language_info": {
   "codemirror_mode": {
    "name": "ipython",
    "version": 3
   },
   "file_extension": ".py",
   "mimetype": "text/x-python",
   "name": "python",
   "nbconvert_exporter": "python",
   "pygments_lexer": "ipython3",
   "version": "3.12.1"
  }
 },
 "nbformat": 4,
 "nbformat_minor": 2
}
