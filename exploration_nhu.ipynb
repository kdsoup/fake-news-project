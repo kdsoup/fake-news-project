{
 "cells": [
  {
   "cell_type": "code",
   "execution_count": null,
   "metadata": {},
   "outputs": [],
   "source": [
    "import pandas as pd\n",
    "\n",
    "# load raw dataset\n",
    "src = 'data/995,000_rows_cleaned.csv'\n",
    "# src = 'data/SAMPLE.csv'\n",
    "raw_data = pd.read_csv(src)"
   ]
  },
  {
   "cell_type": "markdown",
   "metadata": {},
   "source": [
    "### Amount of ',' (commas) in fake news vs. reliable news"
   ]
  },
  {
   "cell_type": "code",
   "execution_count": null,
   "metadata": {},
   "outputs": [],
   "source": [
    "# Function to count comma \n",
    "def count_comma(text):\n",
    "    return text.count(',')\n",
    "\n",
    "# Apply\n",
    "raw_data['comma_count'] = raw_data['content_clean'].apply(count_comma)\n"
   ]
  },
  {
   "cell_type": "code",
   "execution_count": null,
   "metadata": {},
   "outputs": [],
   "source": [
    "#  Filter DataFrame for articles labeled as 'fake'\n",
    "fake_articles = raw_data[raw_data['type'] == 'fake']\n",
    "\n",
    "# Total commas in 'fake' content\n",
    "total_fake_nums = fake_articles['comma_count'].sum()\n",
    "print(\"Total commas in 'fake' content:\", total_fake_nums)\n",
    "\n",
    "# Filter DataFrame for articles labeled as 'reliable'\n",
    "reliable_articles = raw_data[raw_data['type'] == 'reliable']\n",
    "\n",
    "# Total commas in 'reliable' content\n",
    "total_reliable_nums = reliable_articles['comma_count'].sum()\n",
    "print(\"Total commas in 'reliable' content:\", total_reliable_nums)\n",
    "\n",
    "# Minimum number of commas in 'fake' content\n",
    "min_fake_nums = fake_articles['comma_count'].min()\n",
    "print(\"Minimum number of commas in 'fake' content:\", min_fake_nums)\n",
    "\n",
    "# Maximum number of commas in 'fake' content\n",
    "max_fake_nums = fake_articles['comma_count'].max()\n",
    "print(\"Maximum number of commas in 'fake' content:\", max_fake_nums)\n",
    "\n",
    "# Mean number of commas in 'fake' content\n",
    "mean_fake_nums = fake_articles['comma_count'].mean()\n",
    "print(\"Mean number of commas in 'fake' content:\", mean_fake_nums)\n",
    "\n",
    "# Minimum number of commas in 'reliable' content\n",
    "min_reliable_nums = reliable_articles['comma_count'].min()\n",
    "print(\"Minimum number of commas in 'reliable' content:\", min_reliable_nums)\n",
    "\n",
    "# Maximum number of commas in 'reliable' content\n",
    "max_reliable_nums = reliable_articles['comma_count'].max()\n",
    "print(\"Maximum number of commas in 'reliable' content:\", max_reliable_nums)\n",
    "\n",
    "# Mean number of commas in 'reliable' content\n",
    "mean_reliable_nums = reliable_articles['comma_count'].mean()\n",
    "print(\"Mean number of commas in 'reliable' content:\", mean_reliable_nums)"
   ]
  },
  {
   "cell_type": "code",
   "execution_count": null,
   "metadata": {},
   "outputs": [],
   "source": [
    "import matplotlib.pyplot as plt\n",
    "\n",
    "# get total sum of exclamation points for each type (labels)\n",
    "types = ['reliable',\n",
    "         'political',\n",
    "         'bias',\n",
    "         'fake',\n",
    "         'conspiracy',\n",
    "         'rumor',\n",
    "         'unknown',\n",
    "         'unreliable',\n",
    "         'clickbait',\n",
    "         'junksci',\n",
    "         'satire',\n",
    "         'hate'\n",
    "         ]\n",
    "\n",
    "sums = []\n",
    "for type in types:\n",
    "    sum = (raw_data[ (raw_data['type'] == type)])['comma_count'].mean()\n",
    "    sums.append(sum)\n",
    "\n",
    "# plot data\n",
    "fig, ax = plt.subplots()\n",
    "plt.xticks(rotation='vertical')\n",
    "\n",
    "ax.set_ylabel('mean')\n",
    "ax.set_title('\\',\\' characters in all article types')\n",
    "\n",
    "ax.bar(types, sums)\n",
    "\n",
    "plt.show()"
   ]
  },
  {
   "cell_type": "markdown",
   "metadata": {},
   "source": [
    "### Length of sentences in reliable news vs. fake news"
   ]
  },
  {
   "cell_type": "code",
   "execution_count": null,
   "metadata": {},
   "outputs": [],
   "source": [
    "import swifter\n",
    "\n",
    "def average_sentence_length(text):\n",
    "    # Split the text into sentences\n",
    "    sentences = text.split('.')\n",
    "    \n",
    "    # Initialize variables to store total length and number of sentences\n",
    "    total_length = 0\n",
    "    num_sentences = 0\n",
    "    \n",
    "    # Iterate through each sentence to calculate total length and count the number of sentences\n",
    "    for sentence in sentences:\n",
    "        # Count the number of words in the sentence\n",
    "        words = sentence.split()\n",
    "        length = len(words)\n",
    "        \n",
    "        # Add the length of the current sentence to the total length\n",
    "        total_length += length\n",
    "        \n",
    "        # Increment the number of sentences\n",
    "        if length > 0:  # Exclude empty sentences\n",
    "            num_sentences += 1\n",
    "    \n",
    "    # Calculate the average length of sentences\n",
    "    if num_sentences > 0:\n",
    "        average_length = total_length / num_sentences\n",
    "    else:\n",
    "        average_length = 0\n",
    "    \n",
    "    return average_length\n",
    "\n",
    "# Apply\n",
    "raw_data['average_sentence_length'] = raw_data['content'].swifter.apply(average_sentence_length)"
   ]
  },
  {
   "cell_type": "code",
   "execution_count": null,
   "metadata": {},
   "outputs": [],
   "source": [
    "# Filter DataFrame for articles labeled as 'fake'\n",
    "fake_articles = raw_data[raw_data['type'] == 'fake']\n",
    "\n",
    "# Filter DataFrame for articles labeled as 'reliable'\n",
    "reliable_articles = raw_data[raw_data['type'] == 'reliable']\n",
    "\n",
    "# Minimum number in 'fake' content\n",
    "min_fake_nums = fake_articles['average_sentence_length'].min()\n",
    "print(\"Minimum average length in 'fake' content:\", min_fake_nums)\n",
    "\n",
    "# Maximum number in 'fake' content\n",
    "max_fake_nums = fake_articles['average_sentence_length'].max()\n",
    "print(\"Maximum average length in 'fake' content:\", max_fake_nums)\n",
    "\n",
    "# Mean number in 'fake' content\n",
    "mean_fake_nums = fake_articles['average_sentence_length'].mean()\n",
    "print(\"Mean average length in 'fake' content:\", mean_fake_nums)\n",
    "\n",
    "# Minimum number in 'reliable' content\n",
    "min_reliable_nums = reliable_articles['average_sentence_length'].min()\n",
    "print(\"Minimum average length in 'reliable' content:\", min_reliable_nums)\n",
    "\n",
    "# Maximum number in 'reliable' content\n",
    "max_reliable_nums = reliable_articles['average_sentence_length'].max()\n",
    "print(\"Maximum average length in 'reliable' content:\", max_reliable_nums)\n",
    "\n",
    "# Mean number of in 'reliable' content\n",
    "mean_reliable_nums = reliable_articles['average_sentence_length'].mean()\n",
    "print(\"Mean average length in 'reliable' content:\", mean_reliable_nums)"
   ]
  },
  {
   "cell_type": "code",
   "execution_count": null,
   "metadata": {},
   "outputs": [],
   "source": [
    "import matplotlib.pyplot as plt\n",
    "\n",
    "# get total sum of exclamation points for each type (labels)\n",
    "types = ['reliable',\n",
    "         'political',\n",
    "         'bias',\n",
    "         'fake',\n",
    "         'conspiracy',\n",
    "         'rumor',\n",
    "         'unknown',\n",
    "         'unreliable',\n",
    "         'clickbait',\n",
    "         'junksci',\n",
    "         'satire',\n",
    "         'hate'\n",
    "         ]\n",
    "\n",
    "sums = []\n",
    "for type in types:\n",
    "    sum = (raw_data[ (raw_data['type'] == type)])['average_sentence_length'].mean()\n",
    "    sums.append(sum)\n",
    "\n",
    "# plot data\n",
    "fig, ax = plt.subplots()\n",
    "plt.xticks(rotation='vertical')\n",
    "\n",
    "ax.set_ylabel('mean')\n",
    "ax.set_title('Avarage sentence length')\n",
    "\n",
    "ax.bar(types, sums)\n",
    "\n",
    "plt.show()"
   ]
  },
  {
   "cell_type": "markdown",
   "metadata": {},
   "source": [
    "### Do Fake news have less titles then reliable news? "
   ]
  },
  {
   "cell_type": "code",
   "execution_count": null,
   "metadata": {},
   "outputs": [],
   "source": [
    "title_counts = raw_data.groupby('type')['title'].apply(lambda x: x.notnull().mean())\n",
    "print(title_counts)"
   ]
  },
  {
   "cell_type": "code",
   "execution_count": null,
   "metadata": {},
   "outputs": [],
   "source": []
  }
 ],
 "metadata": {
  "kernelspec": {
   "display_name": "fake-news-proj",
   "language": "python",
   "name": "python3"
  },
  "language_info": {
   "codemirror_mode": {
    "name": "ipython",
    "version": 3
   },
   "file_extension": ".py",
   "mimetype": "text/x-python",
   "name": "python",
   "nbconvert_exporter": "python",
   "pygments_lexer": "ipython3",
   "version": "3.12.1"
  }
 },
 "nbformat": 4,
 "nbformat_minor": 2
}
