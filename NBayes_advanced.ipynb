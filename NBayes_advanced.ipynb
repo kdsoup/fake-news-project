{
 "cells": [
  {
   "cell_type": "markdown",
   "metadata": {},
   "source": [
    "# Naive Bayes Model"
   ]
  },
  {
   "cell_type": "code",
   "execution_count": null,
   "metadata": {},
   "outputs": [],
   "source": [
    "import pandas as pd\n",
    "\n",
    "# load data\n",
    "training_data = pd.read_csv('data/training_data_features.csv')\n",
    "\n",
    "validation_data = pd.read_csv('data/validation_data_features.csv')\n",
    "\n",
    "test_data = pd.read_csv('data/test_data_features.csv')"
   ]
  },
  {
   "cell_type": "markdown",
   "metadata": {},
   "source": [
    "### Naive Bayes with TF-IDF"
   ]
  },
  {
   "cell_type": "code",
   "execution_count": null,
   "metadata": {},
   "outputs": [],
   "source": [
    "from sklearn.feature_extraction.text import TfidfVectorizer\n",
    "from sklearn.naive_bayes import MultinomialNB\n",
    "from sklearn.metrics import classification_report\n",
    "\n",
    "# TF-IDF Vectorization\n",
    "tfidf_vectorizer = TfidfVectorizer()\n",
    "tfidf_training_matrix = tfidf_vectorizer.fit_transform(training_data['content_stem'])\n",
    "tfidf_validation_matrix = tfidf_vectorizer.transform(validation_data['content_stem'])\n",
    "\n",
    "# Target labels\n",
    "y_training_data = training_data['reliable']\n",
    "y_validation_data = validation_data['reliable']\n",
    "\n",
    "# Initialize and train Naive Bayes classifier using only TF-IDF features\n",
    "nb_classifier_tfidf = MultinomialNB()\n",
    "nb_classifier_tfidf.fit(tfidf_training_matrix, y_training_data)\n",
    "\n",
    "# Predict on validation set using only TF-IDF features\n",
    "y_pred_tfidf = nb_classifier_tfidf.predict(tfidf_validation_matrix)\n",
    "\n",
    "# Evaluate the model using only TF-IDF features\n",
    "print(\"NAIVE BAYES w/ TF-IDF\")\n",
    "print(classification_report(y_validation_data, y_pred_tfidf))"
   ]
  },
  {
   "cell_type": "markdown",
   "metadata": {},
   "source": [
    "##### Test on Fake News"
   ]
  },
  {
   "cell_type": "code",
   "execution_count": null,
   "metadata": {},
   "outputs": [],
   "source": [
    "tfidf_test_matrix = tfidf_vectorizer.transform(test_data['content_stem'])\n",
    "\n",
    "y_test_data = test_data['reliable']\n",
    "\n",
    "# Predict on test set using only TF-IDF features\n",
    "y_pred = nb_classifier_tfidf.predict(tfidf_test_matrix)\n",
    "\n",
    "# Evaluate the model using only TF-IDF features\n",
    "print(\"NAIVE BAYES w/ TF-IDF on Fake News\")\n",
    "print(classification_report(y_test_data, y_pred))"
   ]
  },
  {
   "cell_type": "code",
   "execution_count": null,
   "metadata": {},
   "outputs": [],
   "source": [
    "import matplotlib.pyplot as plt\n",
    "from sklearn.metrics import confusion_matrix, ConfusionMatrixDisplay\n",
    "\n",
    "# Calculate confusion matrix\n",
    "conf_matrix = confusion_matrix(y_test_data,y_pred)\n",
    "\n",
    "# Plot confusion matrix\n",
    "disp = ConfusionMatrixDisplay(confusion_matrix=conf_matrix, display_labels=['false', 'true'])\n",
    "disp.plot()\n",
    "plt.title('NAIVE BAYES w/ TF-IDF on Fake News')\n",
    "plt.show()"
   ]
  },
  {
   "cell_type": "markdown",
   "metadata": {},
   "source": [
    "##### Test on LIAR"
   ]
  },
  {
   "cell_type": "code",
   "execution_count": null,
   "metadata": {},
   "outputs": [],
   "source": [
    "test_data = pd.read_csv('data/liar_test_features.csv')\n",
    "\n",
    "tfidf_test_matrix = tfidf_vectorizer.transform(test_data['content_stem'])\n",
    "\n",
    "y_test_data = test_data['reliable']\n",
    "\n",
    "# Predict on test set using only TF-IDF features\n",
    "y_pred = nb_classifier_tfidf.predict(tfidf_test_matrix)\n",
    "\n",
    "# Evaluate the model using only TF-IDF features\n",
    "print(\"NAIVE BAYES w/ TF-IDF on LIAR\")\n",
    "print(classification_report(y_test_data, y_pred))"
   ]
  },
  {
   "cell_type": "code",
   "execution_count": null,
   "metadata": {},
   "outputs": [],
   "source": [
    "import matplotlib.pyplot as plt\n",
    "from sklearn.metrics import confusion_matrix, ConfusionMatrixDisplay\n",
    "\n",
    "# Calculate confusion matrix\n",
    "conf_matrix = confusion_matrix(y_test_data,y_pred)\n",
    "\n",
    "# Plot confusion matrix\n",
    "disp = ConfusionMatrixDisplay(confusion_matrix=conf_matrix, display_labels=['false', 'true'])\n",
    "disp.plot()\n",
    "plt.title('NAIVE BAYES w/ TF-IDF on LIAR')\n",
    "plt.show()"
   ]
  },
  {
   "cell_type": "markdown",
   "metadata": {},
   "source": [
    "### Naive Bayes with Transformer"
   ]
  },
  {
   "cell_type": "code",
   "execution_count": null,
   "metadata": {},
   "outputs": [],
   "source": [
    "import pandas as pd\n",
    "\n",
    "# load data\n",
    "# training data\n",
    "src = 'data/training_data_grouped_embeddings.csv'\n",
    "training_embeddings = pd.read_csv(src)\n",
    "\n",
    "# validation data\n",
    "src = 'data/validation_data_grouped_embeddings.csv'\n",
    "validation_embeddings = pd.read_csv(src)\n",
    "\n",
    "# test data\n",
    "src = 'data/test_data_features.csv'\n",
    "test_data = pd.read_csv(src)\n",
    "\n",
    "src = 'data/test_data_grouped_embeddings.csv'\n",
    "test_embeddings = pd.read_csv(src)"
   ]
  },
  {
   "cell_type": "code",
   "execution_count": null,
   "metadata": {},
   "outputs": [],
   "source": [
    "# REF: https://scikit-learn.org/stable/tutorial/text_analytics/working_with_text_data.html\n",
    "\n",
    "from sklearn.naive_bayes import MultinomialNB\n",
    "from sklearn.metrics import classification_report\n",
    "from sklearn.preprocessing import MinMaxScaler\n",
    "\n",
    "X_train = training_embeddings\n",
    "Y_train = training_data['reliable']\n",
    "\n",
    "X_val = validation_embeddings\n",
    "Y_val = validation_data['reliable']\n",
    "\n",
    "# scalar to account for negative values\n",
    "# Transform features by scaling each feature to a given range.\n",
    "# REF: https://scikit-learn.org/stable/modules/generated/sklearn.preprocessing.MinMaxScaler.html\n",
    "scaler = MinMaxScaler()\n",
    "# Compute the minimum and maximum to be used for later scaling\n",
    "scaler.fit(X_train)\n",
    "# Scale features of X according to feature_range.\n",
    "X_train_scaled = pd.DataFrame(scaler.transform(X_train))\n",
    "X_val_scaled = pd.DataFrame(scaler.transform(X_val))\n",
    "\n",
    "# naive bayes model\n",
    "clf = MultinomialNB().fit(X_train_scaled, Y_train)\n",
    "\n",
    "# predictions\n",
    "y_pred = clf.predict(X_val_scaled)\n",
    "print('NAIVE BAYES w/ TRANSFORMER')\n",
    "\n",
    "print(classification_report(Y_val, y_pred))"
   ]
  },
  {
   "cell_type": "markdown",
   "metadata": {},
   "source": [
    "##### Test on Fake News"
   ]
  },
  {
   "cell_type": "code",
   "execution_count": null,
   "metadata": {},
   "outputs": [],
   "source": [
    "X_test = test_embeddings\n",
    "Y_test = test_data['reliable']\n",
    "\n",
    "X_test_scaled = pd.DataFrame(scaler.transform(X_test))\n",
    "\n",
    "# predictions\n",
    "nbayes_pred = clf.predict(X_test_scaled)\n",
    "print('NAIVE BAYES w/ TRANSFORMER on Fake News')\n",
    "\n",
    "print(classification_report(Y_test, nbayes_pred))"
   ]
  },
  {
   "cell_type": "code",
   "execution_count": null,
   "metadata": {},
   "outputs": [],
   "source": [
    "import matplotlib.pyplot as plt\n",
    "from sklearn.metrics import confusion_matrix, ConfusionMatrixDisplay\n",
    "\n",
    "# Calculate confusion matrix\n",
    "conf_matrix = confusion_matrix(Y_test, nbayes_pred)\n",
    "\n",
    "# Plot confusion matrix\n",
    "disp = ConfusionMatrixDisplay(confusion_matrix=conf_matrix, display_labels=['false', 'true'])\n",
    "disp.plot()\n",
    "plt.title('NAIVE BAYES w/ TRANSFORMER on Fake News')\n",
    "plt.show()"
   ]
  },
  {
   "cell_type": "markdown",
   "metadata": {},
   "source": [
    "##### Test on LIAR"
   ]
  },
  {
   "cell_type": "code",
   "execution_count": null,
   "metadata": {},
   "outputs": [],
   "source": [
    "\n",
    "src = 'data/liar_test_features.csv'\n",
    "test_data = pd.read_csv(src)\n",
    "\n",
    "src = 'data/liar_test_features_embeddings.csv'\n",
    "test_embeddings = pd.read_csv(src)\n",
    "\n",
    "X_test = test_embeddings\n",
    "Y_test = test_data['reliable']\n",
    "\n",
    "X_test_scaled = pd.DataFrame(scaler.transform(X_test))\n",
    "\n",
    "# predictions\n",
    "nbayes_pred = clf.predict(X_test_scaled)\n",
    "print('NAIVE BAYES w/ TRANSFORMER on Liar')\n",
    "\n",
    "print(classification_report(Y_test, nbayes_pred))"
   ]
  },
  {
   "cell_type": "code",
   "execution_count": null,
   "metadata": {},
   "outputs": [],
   "source": [
    "import matplotlib.pyplot as plt\n",
    "from sklearn.metrics import confusion_matrix, ConfusionMatrixDisplay\n",
    "\n",
    "# Calculate confusion matrix\n",
    "conf_matrix = confusion_matrix(Y_test, nbayes_pred)\n",
    "\n",
    "# Plot confusion matrix\n",
    "disp = ConfusionMatrixDisplay(confusion_matrix=conf_matrix, display_labels=['false', 'true'])\n",
    "disp.plot()\n",
    "plt.title('NAIVE BAYES w/ TRANSFORMER on LIAR')\n",
    "plt.show()"
   ]
  },
  {
   "cell_type": "markdown",
   "metadata": {},
   "source": [
    "### Naive Bayes with Simple Features + TF-IDF"
   ]
  },
  {
   "cell_type": "code",
   "execution_count": null,
   "metadata": {},
   "outputs": [],
   "source": [
    "from sklearn.feature_extraction.text import TfidfVectorizer\n",
    "from scipy.sparse import hstack\n",
    "from sklearn.naive_bayes import MultinomialNB\n",
    "from sklearn.metrics import classification_report\n",
    "import numpy as np\n",
    "\n",
    "# TF-IDF Vectorization\n",
    "tfidf_vectorizer = TfidfVectorizer()\n",
    "tfidf_training_matrix = tfidf_vectorizer.fit_transform(training_data['content_stem'])\n",
    "tfidf_validation_matrix = tfidf_vectorizer.transform(validation_data['content_stem'])\n",
    "\n",
    "numeric_features = ['date_count', \n",
    "                    'url_count', \n",
    "                    'exclm_count',\n",
    "                    'content_word_freq', \n",
    "                    'stop_word_freq', \n",
    "                    'stem_word_freq',\n",
    "                    'stop_reduction_rate', \n",
    "                    'stem_reduction_rate', \n",
    "                    'average_sentence_length']\n",
    "\n",
    "# Numeric features\n",
    "X_training_numeric = training_data[numeric_features]\n",
    "X_validation_numeric = validation_data[numeric_features]\n",
    "\n",
    "# Combine TF-IDF matrix with numeric features\n",
    "X_training_combined = hstack((tfidf_training_matrix, X_training_numeric))\n",
    "X_validation_combined = hstack((tfidf_validation_matrix, X_validation_numeric))\n",
    "\n",
    "# Target labels\n",
    "y_training_data = training_data['reliable']\n",
    "y_validation_data = validation_data['reliable']\n",
    "\n",
    "# Initialize and train Naive Bayes classifier\n",
    "nb_classifier = MultinomialNB()\n",
    "nb_classifier.fit(X_training_combined, y_training_data)\n",
    "\n",
    "# Predict on validation set\n",
    "y_pred = nb_classifier.predict(X_validation_combined)\n",
    "\n",
    "# Evaluate the model\n",
    "print(\"NAIVE BAYES w/ FEATURES + TF-IDF\")\n",
    "print(classification_report(y_validation_data, y_pred))"
   ]
  },
  {
   "cell_type": "markdown",
   "metadata": {},
   "source": [
    "### Naive Bayes with Word Embeddings + TF-IDF"
   ]
  },
  {
   "cell_type": "code",
   "execution_count": null,
   "metadata": {},
   "outputs": [],
   "source": [
    "from sklearn.feature_extraction.text import TfidfVectorizer\n",
    "from scipy.sparse import hstack\n",
    "from sklearn.naive_bayes import MultinomialNB\n",
    "from sklearn.metrics import classification_report\n",
    "\n",
    "# Combine TF-IDF matrix with numeric features\n",
    "X_training_combined = hstack((X_train_scaled, tfidf_training_matrix))\n",
    "X_validation_combined = hstack((X_val_scaled, tfidf_validation_matrix))\n",
    "\n",
    "# Target labels\n",
    "y_training_data = training_data['reliable']\n",
    "y_validation_data = validation_data['reliable']\n",
    "\n",
    "# Initialize and train Naive Bayes classifier\n",
    "nb_classifier = MultinomialNB()\n",
    "nb_classifier.fit(X_training_combined, y_training_data)\n",
    "\n",
    "# Predict on validation set\n",
    "y_pred = nb_classifier.predict(X_validation_combined)\n",
    "\n",
    "# Evaluate the model\n",
    "print(\"NAIVE BAYES w/ TRANSFORMER + TF-IDF\")\n",
    "print(classification_report(y_validation_data, y_pred))"
   ]
  },
  {
   "cell_type": "markdown",
   "metadata": {},
   "source": [
    "### Naive Bayes with Word Embeddings + Simple Features"
   ]
  },
  {
   "cell_type": "code",
   "execution_count": null,
   "metadata": {},
   "outputs": [],
   "source": [
    "from sklearn.feature_extraction.text import TfidfVectorizer\n",
    "from scipy.sparse import hstack\n",
    "from sklearn.naive_bayes import MultinomialNB\n",
    "from sklearn.metrics import classification_report\n",
    "\n",
    "numeric_features = ['date_count', \n",
    "                    'url_count', \n",
    "                    'exclm_count',\n",
    "                    'content_word_freq', \n",
    "                    'stop_word_freq', \n",
    "                    'stem_word_freq',\n",
    "                    'stop_reduction_rate', \n",
    "                    'stem_reduction_rate', \n",
    "                    'average_sentence_length']\n",
    "\n",
    "# Numeric features\n",
    "X_training_numeric = training_data[numeric_features]\n",
    "X_validation_numeric = validation_data[numeric_features]\n",
    "\n",
    "# Combine transformer matrix with numeric features\n",
    "X_training_combined = hstack((X_train_scaled, X_training_numeric))\n",
    "X_validation_combined = hstack((X_val_scaled, X_validation_numeric))\n",
    "\n",
    "# Target labels\n",
    "y_training_data = training_data['reliable']\n",
    "y_validation_data = validation_data['reliable']\n",
    "\n",
    "# Initialize and train Naive Bayes classifier\n",
    "nb_classifier = MultinomialNB()\n",
    "nb_classifier.fit(X_training_combined, y_training_data)\n",
    "\n",
    "# Predict on validation set\n",
    "y_pred = nb_classifier.predict(X_validation_combined)\n",
    "\n",
    "# Evaluate the model\n",
    "print(\"NAIVE BAYES w/ TRANSFORMER + FEATURES\")\n",
    "print(classification_report(y_validation_data, y_pred))"
   ]
  },
  {
   "cell_type": "markdown",
   "metadata": {},
   "source": [
    "### Naive Bayes with Word Embeddings + TF-IDF + Simple Features"
   ]
  },
  {
   "cell_type": "code",
   "execution_count": null,
   "metadata": {},
   "outputs": [],
   "source": [
    "from sklearn.feature_extraction.text import TfidfVectorizer\n",
    "from scipy.sparse import hstack\n",
    "from sklearn.naive_bayes import MultinomialNB\n",
    "from sklearn.metrics import classification_report\n",
    "\n",
    "# Combine sentence transformer with numeric features\n",
    "X_training_combined = hstack((X_train_scaled, X_training_numeric))\n",
    "X_validation_combined = hstack((X_val_scaled, X_validation_numeric))\n",
    "\n",
    "# Combine TF-IDF matrix with sentence transformer and numeric features\n",
    "X_training_final = hstack((tfidf_training_matrix, X_training_combined))\n",
    "X_validation_final = hstack((tfidf_validation_matrix, X_validation_combined))\n",
    "\n",
    "# Target labels\n",
    "y_training_data = training_data['reliable']\n",
    "y_validation_data = validation_data['reliable']\n",
    "\n",
    "# Initialize and train Naive Bayes classifier\n",
    "nb_classifier = MultinomialNB()\n",
    "nb_classifier.fit(X_training_final, y_training_data)\n",
    "\n",
    "# Predict on validation set\n",
    "y_pred = nb_classifier.predict(X_validation_final)\n",
    "\n",
    "# Evaluate the model\n",
    "print(\"NAIVE BAYES w/ TRANSFORMER + TF-IDF + FEATURES\")\n",
    "print(classification_report(y_validation_data, y_pred))"
   ]
  }
 ],
 "metadata": {
  "kernelspec": {
   "display_name": "base",
   "language": "python",
   "name": "python3"
  },
  "language_info": {
   "codemirror_mode": {
    "name": "ipython",
    "version": 3
   },
   "file_extension": ".py",
   "mimetype": "text/x-python",
   "name": "python",
   "nbconvert_exporter": "python",
   "pygments_lexer": "ipython3",
   "version": "3.11.5"
  }
 },
 "nbformat": 4,
 "nbformat_minor": 2
}
