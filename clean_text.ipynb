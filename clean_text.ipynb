{
 "cells": [
  {
   "cell_type": "code",
   "execution_count": 13,
   "metadata": {},
   "outputs": [],
   "source": [
    "import re\n",
    "\n",
    "def convert_to_lower(match_obj):\n",
    "    \"\"\"\n",
    "    Replacement function to convert uppercase letter to lowercase.\n",
    "    Code reference: https://pynative.com/python-regex-replace-re-sub/\n",
    "    \"\"\"\n",
    "    if match_obj.group() is not None:\n",
    "        return match_obj.group().lower()\n",
    "\n",
    "\n",
    "def clean_text(text: str) -> str:\n",
    "    \"\"\"\n",
    "    Takes a raw input data string, and returns a modified version, so that all words are lower case, \n",
    "    multiple white spaces, tabs, and new lines are removed. Numbers, date, emails, and URLs are \n",
    "    replaced by <NUM>, <DATE>, <EMAIL>, and <URL>.\n",
    "    \"\"\"\n",
    "\n",
    "    # To lowercase\n",
    "    caps = re.compile(r'[A-Z]')\n",
    "    text = caps.sub(convert_to_lower, text)\n",
    "\n",
    "    # Remove multiple white space, taps, and new lines\n",
    "    newline = re.compile(r'\\n')\n",
    "    spacing = re.compile(r' {2,}')\n",
    "    text = newline.sub(r' ', text) \n",
    "    text = spacing.sub(r' ', text)\n",
    "\n",
    "    # Replace numbers, dates, email, and URLs with <NUM>, <DATE>, <EMAIL>, <URL>\n",
    "    # Email\n",
    "    p_email = re.compile(r'[a-zA-Z]*@[a-zA-Z]*\\.[a-zA-Z]*\\.?[a-zA-Z]*')\n",
    "    text = p_email.sub(\"<EMAIL>\", text)\n",
    "\n",
    "    # URL\n",
    "    p_url = re.compile(r'(https?[a-z/:\\.\\-0-9_]*)')\n",
    "    text = p_url.sub(\"<URL>\", text)\n",
    "\n",
    "    # Dates\n",
    "    p_date = re.compile(r'([0-9]{4}-?[0-9]{2}-[0-9]{2} ?[0-9:\\.]*)')\n",
    "    text = p_date.sub(\"<DATE>\", text)\n",
    "\n",
    "    # Numbers (incl. floats)\n",
    "    p_num = re.compile(r'[0-9]+\\.?[0-9]*')\n",
    "    text = p_num.sub(\"<NUM>\", text)\n",
    "\n",
    "    return text"
   ]
  },
  {
   "cell_type": "code",
   "execution_count": 45,
   "metadata": {},
   "outputs": [],
   "source": [
    "import pandas as pd\n",
    "\n",
    "# load news_sample.csv file from git source\n",
    "df = pd.read_csv('https://raw.githubusercontent.com/several27/FakeNewsCorpus/master/news_sample.csv')\n",
    "\n",
    "# cleanup text on 'content' column\n",
    "for i in range(len(df.index)):\n",
    "    df.at[i, 'content'] = clean_text(df.content[i])\n",
    "\n",
    "# save cleaned up data to csv file\n",
    "df.to_csv(\"data/news_sample_cleaned.csv\")"
   ]
  }
 ],
 "metadata": {
  "kernelspec": {
   "display_name": "fake-news-proj",
   "language": "python",
   "name": "python3"
  },
  "language_info": {
   "codemirror_mode": {
    "name": "ipython",
    "version": 3
   },
   "file_extension": ".py",
   "mimetype": "text/x-python",
   "name": "python",
   "nbconvert_exporter": "python",
   "pygments_lexer": "ipython3",
   "version": "3.12.1"
  }
 },
 "nbformat": 4,
 "nbformat_minor": 2
}
