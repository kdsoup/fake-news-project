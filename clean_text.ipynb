{
 "cells": [
  {
   "cell_type": "markdown",
   "metadata": {},
   "source": [
    "# Part 1: Data Processing"
   ]
  },
  {
   "cell_type": "markdown",
   "metadata": {},
   "source": [
    "## Task 1:"
   ]
  },
  {
   "cell_type": "markdown",
   "metadata": {},
   "source": [
    "### Clean the text"
   ]
  },
  {
   "cell_type": "code",
   "execution_count": 24,
   "metadata": {},
   "outputs": [],
   "source": [
    "import re\n",
    "from cleantext import clean\n",
    "\n",
    "# Clean the data\n",
    "def clean_text(text):         \n",
    "    # Replace dates with <DATE> (assuming date format MM DD,YYYY (fx Jan. 8, 2017 or april 4, 1999))\n",
    "    text = re.sub('(?:[a-zA-Z]+)\\.?\\s+[0-9]{1,2},\\s+[0-9]{4}', '<DATE>', text)\n",
    "\n",
    "    # Remove multiple white spaces, tabs, new lines\n",
    "    text = re.sub(' +|\\n+|\\t+',' ', text)\n",
    "    \n",
    "    text = clean(text,\n",
    "        lower=True,                    # lowercase text\n",
    "        no_urls=True,                  # replace all URLs with a special token\n",
    "        no_emails=True,                # replace all email addresses with a special token\n",
    "        no_numbers=True,               # replace all numbers with a special token      \n",
    "        replace_with_url=\"<URL>\",\n",
    "        replace_with_email=\"<EMAIL>\",\n",
    "        replace_with_number=\"<NUM>\"            \n",
    "    )\n",
    "\n",
    "    return text"
   ]
  },
  {
   "cell_type": "code",
   "execution_count": 25,
   "metadata": {},
   "outputs": [
    {
     "name": "stdout",
     "output_type": "stream",
     "text": [
      "0      sometimes the power of christmas will make you do wild and wonderful things. you do not need to believe in the holy trinity to believe in the posi...\n",
      "1      awakening of <num> strands of dna - \"reconnecting with you\" movie % of readers think this story is fact. add your two cents. headline: bitcoin & b...\n",
      "2      never hike alone: a friday the 13th fan film usa | <num> | <num> min a fan tribute to friday the 13th, never hike alone follows an adventure never...\n",
      "3      when a rare shark was caught, scientists were left blundering for answers. this shark has a unique feature. and it's not that it can survive at ex...\n",
      "4      donald trump has the unnerving ability to ability to create his own reality and convince millions of americans that what he says it is true. the p...\n",
      "                                                                               ...                                                                          \n",
      "245    prison for rahm, god's work and many others headline: bitcoin & blockchain searches exceed trump! blockchain stocks are next! by karl denninger, m...\n",
      "246    <num> useful items for your tiny home headline: bitcoin & blockchain searches exceed trump! blockchain stocks are next! while a tiny home is great...\n",
      "247    former cia director michael hayden said thursday \"we all collectively should be a little bit frightened\" by donald trump reported remarks about im...\n",
      "248    antonio sabato jr. says hollywood's liberal elite desperately wants oprah winfrey to run for president in <num> because she is the democratic part...\n",
      "249    former u.s. president bill clinton on monday called for the immediate release of two reuters journalists being held in myanmar. \"a free press is c...\n",
      "Name: content_clean, Length: 250, dtype: object\n"
     ]
    }
   ],
   "source": [
    "import pandas as pd\n",
    "\n",
    "# load news_sample.csv file from git source\n",
    "df = pd.read_csv('https://raw.githubusercontent.com/several27/FakeNewsCorpus/master/news_sample.csv')\n",
    "\n",
    "# cleanup text on 'content' column and add into new column 'content_clean'\n",
    "df['content_clean'] = df['content'].apply(clean_text)\n",
    "\n",
    "# save cleaned up data to csv file\n",
    "df.to_csv(\"data/news_sample_cleaned.csv\")\n",
    "\n",
    "pd.reset_option('display.max_rows')\n",
    "pd.set_option('display.max_colwidth', 150)\n",
    "\n",
    "print(df[\"content_clean\"])"
   ]
  },
  {
   "cell_type": "markdown",
   "metadata": {},
   "source": [
    "## NLTK"
   ]
  },
  {
   "cell_type": "code",
   "execution_count": 26,
   "metadata": {},
   "outputs": [
    {
     "name": "stderr",
     "output_type": "stream",
     "text": [
      "[nltk_data] Downloading package punkt to C:\\Users\\Phong\n",
      "[nltk_data]     Phan\\AppData\\Roaming\\nltk_data...\n",
      "[nltk_data]   Package punkt is already up-to-date!\n",
      "[nltk_data] Downloading package stopwords to C:\\Users\\Phong\n",
      "[nltk_data]     Phan\\AppData\\Roaming\\nltk_data...\n",
      "[nltk_data]   Package stopwords is already up-to-date!\n"
     ]
    },
    {
     "data": {
      "text/plain": [
       "True"
      ]
     },
     "execution_count": 26,
     "metadata": {},
     "output_type": "execute_result"
    }
   ],
   "source": [
    "import nltk\n",
    "nltk.download('punkt')\n",
    "nltk.download(\"stopwords\")"
   ]
  },
  {
   "cell_type": "code",
   "execution_count": 27,
   "metadata": {},
   "outputs": [],
   "source": [
    "from nltk.tokenize import word_tokenize\n",
    "\n",
    "# tokenize the text\n",
    "# THIS IS NOT IN USE FOR NOW\n",
    "def tokenize_text(text: str) -> list:\n",
    "    return word_tokenize(text)\n"
   ]
  },
  {
   "cell_type": "markdown",
   "metadata": {},
   "source": [
    "### Tokenize the text and remove stopwords"
   ]
  },
  {
   "cell_type": "code",
   "execution_count": 29,
   "metadata": {},
   "outputs": [
    {
     "name": "stdout",
     "output_type": "stream",
     "text": [
      "0      sometimes power christmas make wild wonderful things . need believe holy trinity believe positive power good others . simple act giving without re...\n",
      "1      awakening < num > strands dna - `` reconnecting '' movie % readers think story fact . add two cents . headline : bitcoin & blockchain searches exc...\n",
      "2      never hike alone : friday 13th fan film usa | < num > | < num > min fan tribute friday 13th , never hike alone follows adventure never hike alone ...\n",
      "3      rare shark caught , scientists left blundering answers . shark unique feature . 's survive extreme depths live extended period time . shark 's uni...\n",
      "4      donald trump unnerving ability ability create reality convince millions americans says true . problem president lying believes lies . new poll sho...\n",
      "                                                                               ...                                                                          \n",
      "245    prison rahm , god 's work many others headline : bitcoin & blockchain searches exceed trump ! blockchain stocks next ! karl denninger , market tic...\n",
      "246    < num > useful items tiny home headline : bitcoin & blockchain searches exceed trump ! blockchain stocks next ! tiny home great low price compared...\n",
      "247    former cia director michael hayden said thursday `` collectively little bit frightened '' donald trump reported remarks immigrants certain `` * * ...\n",
      "248    antonio sabato jr. says hollywood 's liberal elite desperately wants oprah winfrey run president < num > democratic party 's one chance regain pow...\n",
      "249    former u.s. president bill clinton monday called immediate release two reuters journalists held myanmar . `` free press critical free society - de...\n",
      "Name: content_stopword, Length: 250, dtype: object\n"
     ]
    }
   ],
   "source": [
    "from nltk.corpus import stopwords\n",
    "\n",
    "def remove_stopwords(text: str) -> None:\n",
    "    stop_words = set(stopwords.words('english'))\n",
    "\n",
    "    # Tokenize the input text\n",
    "    word_tokens = word_tokenize(text)\n",
    "\n",
    "    # Filter out stopwords\n",
    "    filtered_sentence = [w for w in word_tokens if w.lower() not in stop_words]\n",
    "\n",
    "    # Join the filtered words back into a single string\n",
    "    nostop_text = ' '.join(filtered_sentence)\n",
    "\n",
    "    return nostop_text\n",
    "\n",
    "# Apply remove_stopwords to 'content_clean' column and create 'content_stopword' column\n",
    "df['content_stopword'] = df['content_clean'].apply(remove_stopwords)\n",
    "print(df['content_stopword'])\n"
   ]
  },
  {
   "cell_type": "markdown",
   "metadata": {},
   "source": [
    "###  Compute the size of the vocabulary and compute the reduction rate of the vocabulary size after removing stopwords\n"
   ]
  },
  {
   "cell_type": "code",
   "execution_count": 20,
   "metadata": {},
   "outputs": [],
   "source": [
    "# compute stopword reduction rate. add vocabulary columns and reduction rate column to csv file\n",
    "def stopword_reduction_rate(filename: str) -> None:\n",
    "    df = pd.read_csv(filename)\n",
    "\n",
    "    for i in range(len(df.index)):\n",
    "        content_clean_vocabulary_size = len(set(word_tokenize(df.content_clean[i])))\n",
    "        content_stopword_vocabulary_size = len(set(word_tokenize(df.content_stopword[i])))\n",
    "        decrease = content_clean_vocabulary_size - content_stopword_vocabulary_size\n",
    "        reduction_rate = (decrease/content_clean_vocabulary_size) * 100\n",
    "        df.at[i, 'content_clean_vocabulary_size'] = content_clean_vocabulary_size\n",
    "        df.at[i, 'content_stopword_vocabulary_size'] = content_stopword_vocabulary_size\n",
    "        df.at[i, 'content_stopword_reduction_rate'] = round(reduction_rate, 3)\n",
    "    \n",
    "    df.to_csv(filename)\n",
    "\n",
    "    # # Printing results for each row\n",
    "    # for index, row in df.iterrows():\n",
    "    #     print(f\"{index} Clean Vocab Size: {row['content_clean_vocabulary_size']}, Stopword Vocab Size: {row['content_stopword_vocabulary_size']}, Reduction Rate: {row['content_stopword_reduction_rate']}\")\n",
    "    \n",
    "stopword_reduction_rate('data/news_sample_cleaned.csv')\n",
    "\n"
   ]
  },
  {
   "cell_type": "markdown",
   "metadata": {},
   "source": [
    "### Remove word variations with stemming and compute the size of the vocabulary"
   ]
  },
  {
   "cell_type": "code",
   "execution_count": 21,
   "metadata": {},
   "outputs": [
    {
     "name": "stdout",
     "output_type": "stream",
     "text": [
      "0      sometim power christma make wild wonder thing . need believ holi triniti believ posit power good other . simpl act give without receiv lost mani u...\n",
      "1      awaken < num > strand dna - `` reconnect `` movi % reader think stori fact . add two cent . headlin : bitcoin & blockchain search exceed trump ! b...\n",
      "2      never hike alon : friday 13th fan film usa | < num > | < num > min fan tribut friday 13th , never hike alon follow adventur never hike alon : frid...\n",
      "3      rare shark caught , scientist left blunder answer . shark uniqu featur . 's surviv extrem depth live extend period time . shark 's uniqu trait ext...\n",
      "4      donald trump unnerv abil abil creat realiti convinc million american say true . problem presid lie believ lie . new poll show get countri deep tro...\n",
      "                                                                               ...                                                                          \n",
      "245    prison rahm , god 's work mani other headlin : bitcoin & blockchain search exceed trump ! blockchain stock next ! karl denning , market ticker : k...\n",
      "246    < num > use item tini home headlin : bitcoin & blockchain search exceed trump ! blockchain stock next ! tini home great low price compar bigger pr...\n",
      "247    former cia director michael hayden said thursday `` collect littl bit frighten `` donald trump report remark immigr certain `` * * thole countri ....\n",
      "248    antonio sabato jr. say hollywood 's liber elit desper want oprah winfrey run presid < num > democrat parti 's one chanc regain power washington . ...\n",
      "249    former u.s. presid bill clinton monday call immedi releas two reuter journalist held myanmar . `` free press critic free societi - detent journali...\n",
      "Name: content_stem, Length: 250, dtype: object\n"
     ]
    }
   ],
   "source": [
    "from nltk.stem.snowball import SnowballStemmer\n",
    "\n",
    "# remove word variations\n",
    "\n",
    "def remove_word_variations(text: str) -> str:\n",
    "    # Initialize a SnowballStemmer with English language\n",
    "    stemmer = SnowballStemmer(\"english\")\n",
    "    \n",
    "    # Tokenize the input text\n",
    "    word_tokens = word_tokenize(text)\n",
    "    \n",
    "    # Stem each word token\n",
    "    stemmed_words = [stemmer.stem(word) for word in word_tokens]\n",
    "    \n",
    "    # Join the stemmed words back into a single string\n",
    "    stemmed_text = ' '.join(stemmed_words)\n",
    "    \n",
    "    return stemmed_text\n",
    "\n",
    "df['content_stem'] = df['content_stopword'].apply(remove_word_variations)\n",
    "print(df['content_stem'])"
   ]
  },
  {
   "cell_type": "markdown",
   "metadata": {},
   "source": [
    "###  Compute the reduction rate of the vocabulary size after stemming"
   ]
  },
  {
   "cell_type": "code",
   "execution_count": 22,
   "metadata": {},
   "outputs": [],
   "source": [
    "# compute size of vocabulary after stemming. Add column with 'stem vocabulary size' to the csv file\n",
    "def stemming_reduction_rate(filename: str) -> None:\n",
    "    df = pd.read_csv(filename)\n",
    "\n",
    "    for i in range(len(df.index)):\n",
    "        stem_vocabulary_size = len(set(word_tokenize(df.content_stem[i])))\n",
    "        clean_vocabulary_size = len(set(word_tokenize(df.content_clean[i])))\n",
    "        decrease = clean_vocabulary_size - stem_vocabulary_size\n",
    "        reduction_rate = (decrease/clean_vocabulary_size) * 100\n",
    "        df.at[i, 'content_stem_vocabulary_size'] = stem_vocabulary_size\n",
    "        df.at[i, 'content_stem_reduction_rate'] = round(reduction_rate, 3)\n",
    "\n",
    "    df.to_csv(filename)\n",
    "    # # Printing results for each row\n",
    "    # for index, row in df.iterrows():\n",
    "    #     print(f\"{index} Clean Vocab Size: {row['content_clean_vocabulary_size']}, Stopword Vocab Size: {row['content_stopword_vocabulary_size']}, Reduction Rate: {row['content_stopword_reduction_rate']}, Stem Vocabulary Size: {row['content_stem_vocabulary_size']}, Stem Reduction Rate: {row['content_stem_reduction_rate']}\")\n",
    "\n",
    "stemming_reduction_rate('data/news_sample_cleaned.csv')"
   ]
  },
  {
   "cell_type": "markdown",
   "metadata": {},
   "source": [
    "## Task 2:"
   ]
  },
  {
   "cell_type": "markdown",
   "metadata": {},
   "source": [
    "### Make at least three non-trivial observations/discoveries about the data"
   ]
  },
  {
   "cell_type": "code",
   "execution_count": 1,
   "metadata": {},
   "outputs": [
    {
     "name": "stderr",
     "output_type": "stream",
     "text": [
      "C:\\Users\\Phong Phan\\AppData\\Local\\Temp\\ipykernel_9616\\4225813378.py:1: DeprecationWarning: \n",
      "Pyarrow will become a required dependency of pandas in the next major release of pandas (pandas 3.0),\n",
      "(to allow more performant data types, such as the Arrow string type, and better interoperability with other libraries)\n",
      "but was not found to be installed on your system.\n",
      "If this would cause problems for you,\n",
      "please provide us feedback at https://github.com/pandas-dev/pandas/issues/54466\n",
      "        \n",
      "  import pandas as pd\n",
      "C:\\Users\\Phong Phan\\AppData\\Local\\Temp\\ipykernel_9616\\4225813378.py:6: DtypeWarning: Columns (0,1) have mixed types. Specify dtype option on import or set low_memory=False.\n",
      "  df_new = pd.read_csv('data/995,000_rows.csv')\n"
     ]
    }
   ],
   "source": [
    "import pandas as pd\n",
    "\n",
    "# Load the dataset\n",
    "df_new = pd.read_csv('data/995,000_rows.csv')\n"
   ]
  },
  {
   "cell_type": "code",
   "execution_count": 4,
   "metadata": {},
   "outputs": [],
   "source": [
    "# print(\"Basic Statistics of the Dataset:\")\n",
    "# print(df.info())\n",
    "\n",
    "# # Missing Values\n",
    "# print(\"\\nMissing Values in Each Column:\")\n",
    "# print(df.isnull().sum())\n",
    "\n",
    "# Handle NaN values in the 'content' column\n",
    "df_new['content'] = df_new['content'].fillna('')\n",
    "      \n",
    "# Apply clean_text function\n",
    "df_new['content_clean'] = df_new['content'].apply(clean_text)"
   ]
  },
  {
   "cell_type": "code",
   "execution_count": 8,
   "metadata": {},
   "outputs": [
    {
     "name": "stdout",
     "output_type": "stream",
     "text": [
      "Total URLs in Content: 265730\n"
     ]
    }
   ],
   "source": [
    "# Function to count URLs with <URL> tag\n",
    "def count_urls_with_tag(text):\n",
    "    urls_with_tag = re.findall('<url>', text)\n",
    "    return len(urls_with_tag)\n",
    "\n",
    "# Apply count URLs with <URL> tag\n",
    "df_new['url_count'] = df_new['content_clean'].apply(count_urls_with_tag)\n",
    "\n",
    "# print(df[['content_clean', 'url_count_with_tag']])\n",
    "\n",
    "# Total URLs in Content\n",
    "total_urls = df_new['url_count'].sum()\n",
    "print(\"Total URLs in Content:\", total_urls)"
   ]
  },
  {
   "cell_type": "code",
   "execution_count": 11,
   "metadata": {},
   "outputs": [
    {
     "name": "stdout",
     "output_type": "stream",
     "text": [
      "Total DATEs in Content: 366961\n"
     ]
    }
   ],
   "source": [
    "# Function to count DATEs with <DATE> tag\n",
    "def count_date_with_tag(text):\n",
    "    date_with_tag = re.findall('<date>', text)\n",
    "    return len(date_with_tag)\n",
    "\n",
    "# Apply count DATEs with <DATE> tag\n",
    "df_new['date_count'] = df_new['content_clean'].apply(count_date_with_tag)\n",
    "\n",
    "# Total DATEs in Content\n",
    "total_dates = df_new['date_count'].sum()\n",
    "print(\"Total DATEs in Content:\", total_dates)"
   ]
  },
  {
   "cell_type": "code",
   "execution_count": 12,
   "metadata": {},
   "outputs": [
    {
     "name": "stdout",
     "output_type": "stream",
     "text": [
      "Total NUMs in Content: 7847913\n"
     ]
    }
   ],
   "source": [
    "\n",
    "# Function to count NUMs with <NUM> tag\n",
    "def count_num_with_tag(text):\n",
    "    num_with_tag = re.findall('<num>', text)\n",
    "    return len(num_with_tag)\n",
    "\n",
    "# Apply count NUms with <NUM> tag\n",
    "df_new['num_count'] = df_new['content_clean'].apply(count_num_with_tag)\n",
    "\n",
    "# Total NUMs in Content\n",
    "total_nums = df_new['num_count'].sum()\n",
    "print(\"Total NUMs in Content:\", total_nums)"
   ]
  },
  {
   "cell_type": "code",
   "execution_count": 16,
   "metadata": {},
   "outputs": [
    {
     "name": "stdout",
     "output_type": "stream",
     "text": [
      "[('the', 26221386), ('to', 12684748), ('of', 12490129), ('and', 11511566), ('a', 10029617), ('in', 8719299), ('num', 7847998), ('that', 5672981), ('is', 5073090), ('s', 4945541), ('for', 4385320), ('it', 3631064), ('on', 3529588), ('with', 2833050), ('as', 2804461), ('i', 2597019), ('was', 2446702), ('are', 2443949), ('by', 2351211), ('this', 2287046), ('you', 2243796), ('at', 2197873), ('be', 2175310), ('he', 2172500), ('not', 2114533), ('have', 2099297), ('from', 2042185), ('they', 1733395), ('an', 1724729), ('has', 1709394), ('we', 1699856), ('but', 1653709), ('his', 1632367), ('or', 1534996), ('said', 1415656), ('who', 1355900), ('will', 1333746), ('their', 1269891), ('t', 1236015), ('all', 1193483), ('more', 1161332), ('one', 1119519), ('about', 1108291), ('new', 1063568), ('which', 1027472), ('can', 1005473), ('if', 1002649), ('up', 978733), ('would', 965366), ('what', 953211), ('there', 926751), ('been', 925156), ('had', 915900), ('were', 915087), ('people', 912579), ('so', 881497), ('when', 858406), ('out', 848888), ('our', 830442), ('no', 824776), ('its', 757170), ('like', 723143), ('your', 703654), ('also', 692622), ('her', 682249), ('than', 681232), ('she', 680761), ('do', 679348), ('us', 672053), ('after', 656068), ('other', 656066), ('time', 646313), ('some', 643151), ('just', 624308), ('my', 608846), ('over', 605045), ('now', 603485), ('them', 601113), ('into', 595563), ('year', 584761), ('only', 575686), ('mr', 565756), ('even', 539138), ('two', 537261), ('state', 526678), ('first', 519759), ('president', 516156), ('how', 515315), ('trump', 507190), ('most', 503259), ('because', 501125), ('news', 498431), ('these', 495776), ('re', 495121), ('obama', 492535), ('government', 490431), ('could', 489571), ('many', 488652), ('years', 481506), ('world', 466991)]\n"
     ]
    },
    {
     "data": {
      "image/png": "[encoded data removed]",
      "text/plain": [
       "<Figure size 1500x600 with 1 Axes>"
      ]
     },
     "metadata": {},
     "output_type": "display_data"
    }
   ],
   "source": [
    "import matplotlib.pyplot as plt\n",
    "from collections import Counter\n",
    "\n",
    "# Initialize an empty counter to store word frequencies\n",
    "clean_word_freq = Counter()\n",
    "\n",
    "# Iterate over each row of the DataFrame\n",
    "for _, row in df_new.iterrows():\n",
    "    # Join the clean words in the 'content_clean' column of the current row into a single string\n",
    "    clean_text = ' '.join(re.findall(r'\\b\\w+\\b', row['content_clean']))\n",
    "    \n",
    "    # Count the word frequencies for the current row\n",
    "    clean_word_freq.update(clean_text.split())\n",
    "\n",
    "# Sort the word frequencies in descending order\n",
    "sorted_clean_word_freq = sorted(clean_word_freq.items(), key=lambda x: x[1], reverse=True)\n",
    "\n",
    "# Extract the 100 most frequent words\n",
    "top_100_clean_words = sorted_clean_word_freq[:100]\n",
    "\n",
    "# Print the top 100 most frequent words\n",
    "print(top_100_clean_words)\n",
    "\n",
    "# Extract the 10000 most frequent words\n",
    "top_10000_clean_words = sorted_clean_word_freq[:10000]\n",
    "\n",
    "# Barplot for top 10000 most frequent clean words\n",
    "plt.figure(figsize=(15, 6))\n",
    "words, frequencies = zip(*top_10000_clean_words)\n",
    "plt.bar(words, frequencies)\n",
    "plt.yscale('log')\n",
    "plt.xlabel('Words')\n",
    "plt.ylabel('Frequency')\n",
    "plt.title('Top 10000 Most Frequent Clean Words')\n",
    "plt.xticks([])\n",
    "plt.show()"
   ]
  },
  {
   "cell_type": "code",
   "execution_count": 31,
   "metadata": {},
   "outputs": [],
   "source": [
    "# Apply remove_stopwords to 'content_clean' column and create 'content_stopword' column\n",
    "df_new['content_stopword'] = df_new['content_clean'].apply(remove_stopwords)"
   ]
  },
  {
   "cell_type": "code",
   "execution_count": null,
   "metadata": {},
   "outputs": [],
   "source": [
    "df_new['content_stem'] = df_new['content_stopword'].apply(remove_word_variations)"
   ]
  },
  {
   "cell_type": "code",
   "execution_count": null,
   "metadata": {},
   "outputs": [],
   "source": [
    "import matplotlib.pyplot as plt\n",
    "from collections import Counter\n",
    "\n",
    "# Initialize an empty counter to store word frequencies\n",
    "clean_word_freq_after = Counter()\n",
    "\n",
    "# Iterate over each row of the DataFrame\n",
    "for _, row in df_new.iterrows():\n",
    "    # Join the clean words in the 'content_clean' column of the current row into a single string\n",
    "    clean_text_after = ' '.join(re.findall(r'\\b\\w+\\b', row['content_stem']))\n",
    "    \n",
    "    # Count the word frequencies for the current row\n",
    "    clean_word_freq_after.update(clean_text.split())\n",
    "\n",
    "# Sort in descending order\n",
    "sorted_clean_word_freq_after = sorted(clean_word_freq_after.items(), key=lambda x: x[1], reverse=True)\n",
    "\n",
    "# Extract the 100 most frequent words\n",
    "top_100_clean_words_after = sorted_clean_word_freq_after[:100]\n",
    "\n",
    "for word, frequency in top_100_clean_words_after:\n",
    "    print(f\"{word}: {frequency}\")\n",
    "\n",
    "# Extract the 10000 most frequent words\n",
    "top_10000_clean_words_after = sorted_clean_word_freq_after[:10000]\n",
    "\n",
    "# Barplot for top 10000 most frequent clean words\n",
    "plt.figure(figsize=(12, 6))\n",
    "words, frequencies = zip(*top_10000_clean_words_after)\n",
    "plt.bar(words, frequencies)\n",
    "plt.xlabel('Words')\n",
    "plt.ylabel('Frequency')\n",
    "plt.title('Top 10000 Most Frequent Clean Words After Preprocessing')\n",
    "plt.xticks([])\n",
    "plt.show()"
   ]
  }
 ],
 "metadata": {
  "kernelspec": {
   "display_name": "fake-news-proj",
   "language": "python",
   "name": "python3"
  },
  "language_info": {
   "codemirror_mode": {
    "name": "ipython",
    "version": 3
   },
   "file_extension": ".py",
   "mimetype": "text/x-python",
   "name": "python",
   "nbconvert_exporter": "python",
   "pygments_lexer": "ipython3",
   "version": "3.11.5"
  }
 },
 "nbformat": 4,
 "nbformat_minor": 2
}
